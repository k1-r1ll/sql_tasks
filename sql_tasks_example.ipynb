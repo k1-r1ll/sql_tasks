{
 "cells": [
  {
   "cell_type": "markdown",
   "id": "4d5815dc",
   "metadata": {},
   "source": [
    "# SQL Tasks\n",
    "# Section 1. Relational model"
   ]
  },
  {
   "cell_type": "markdown",
   "id": "13145581",
   "metadata": {},
   "source": [
    "## Section 1.1"
   ]
  },
  {
   "cell_type": "markdown",
   "id": "e7d4559c",
   "metadata": {},
   "source": [
    "**Task 1.** Сформулируйте SQL запрос для создания таблицы book."
   ]
  },
  {
   "cell_type": "markdown",
   "id": "6973aec5",
   "metadata": {},
   "source": [
    "**CREATE TABLE book (<br>\n",
    "    &emsp;book_id INT PRIMARY KEY AUTO_INCREMENT,<br>\n",
    "    &emsp;title VARCHAR(50),<br>\n",
    "    &emsp;author VARCHAR(30),<br>\n",
    "    &emsp;price DECIMAL(8, 2),<br>\n",
    "    &emsp;amount INT<br>\n",
    "    &emsp;);**"
   ]
  },
  {
   "cell_type": "markdown",
   "id": "b921ab84",
   "metadata": {},
   "source": [
    "**Task 2.** Занесите новую строку в таблицу book (текстовые значения (тип VARCHAR) заключать либо в двойные, либо в одинарные кавычки).\n",
    "\n",
    "**INSERT INTO book(title, author, price, amount)<br>\n",
    "VALUES ('Кобзар', 'Шевченко Т.Г.', 670.99, 3);<br>\n",
    "<br>\n",
    "SELECT * FROM book;**"
   ]
  },
  {
   "cell_type": "markdown",
   "id": "92e605d7",
   "metadata": {},
   "source": [
    "**Task 3.** Занесите три последние записи в таблицуbook,  первая запись уже добавлена на предыдущем шаге.\n",
    "\n",
    "**INSERT INTO book(title, author, price, amount)<br>\n",
    "VALUES ('Зів'яле листя', 'Франко І.Я.', 540.50, 5),<br>\n",
    "       ('Я (Романтика)', 'Хвильовий М.Г.', 460.00, 10),<br>\n",
    "       ('Веселий цвинтар', 'Стус В.С.', 799.01, 2);**<br>\n",
    "\n",
    "**SELECT * FROM book;**"
   ]
  },
  {
   "cell_type": "markdown",
   "id": "f281d0f2",
   "metadata": {},
   "source": [
    "## Section 1.2"
   ]
  },
  {
   "cell_type": "markdown",
   "id": "1ba0903f",
   "metadata": {},
   "source": [
    "**Task 1.** Вывести информацию о всех книгах, хранящихся на складе.\n",
    "\n",
    "**SELECT * FROM book;**"
   ]
  },
  {
   "cell_type": "markdown",
   "id": "7e0d2fa2",
   "metadata": {},
   "source": [
    "**Task 2.** Выбрать авторов, название книг и их цену из таблицы book.\n",
    "\n",
    "**SELECT author, title, price FROM book;**"
   ]
  },
  {
   "cell_type": "markdown",
   "id": "cb90c82a",
   "metadata": {},
   "source": [
    "**Task 3.** Выбрать названия книг и авторов из таблицы book, для поля title задать имя(псевдоним) Название, для поля author –  Автор.\n",
    "\n",
    "**SELECT title AS Название, author AS Автор<br>\n",
    "FROM book;**"
   ]
  },
  {
   "cell_type": "markdown",
   "id": "272aa7e0",
   "metadata": {},
   "source": [
    "**Task 4.** Для упаковки каждой книги требуется один лист бумаги, цена которого 1 рубль 65 копеек. Посчитать стоимость упаковки для каждой книги (сколько денег потребуется, чтобы упаковать все экземпляры книги). В запросе вывести название книги, ее количество и стоимость упаковки, последний столбец назвать pack.\n",
    "\n",
    "**SELECT title, amount, amount * 1.65 AS pack<br>\n",
    "FROM book;**"
   ]
  },
  {
   "cell_type": "markdown",
   "id": "a803a1a2",
   "metadata": {},
   "source": [
    "**Task 5.** В конце года цену всех книг на складе пересчитывают – снижают ее на 30%. Написать SQL запрос, который из таблицы book выбирает названия, авторов, количества и вычисляет новые цены книг. Столбец с новой ценой назвать new_price, цену округлить до 2-х знаков после запятой.\n",
    "\n",
    "\n",
    "**SELECT title, author, amount,<br>\n",
    "       &emsp;ROUND(price - (price * 0.3), 2) AS new_price<br>\n",
    "FROM book;**"
   ]
  },
  {
   "cell_type": "markdown",
   "id": "c8b5d86a",
   "metadata": {},
   "source": [
    "**Task 6.** При анализе продаж книг выяснилось, что наибольшей популярностью пользуются книги Тараса Шевченко, на втором месте книги Ивана Франко. Исходя из этого решили поднять цену книг Шевченко на 10%, а цену книг Франко - на 5%. Написать запрос, куда включить автора, название книги и новую цену, последний столбец назвать new_price. Значение округлить до двух знаков после запятой.\n",
    "\n",
    "**SELECT author, title,<br>\n",
    "       &emsp;ROUND(IF(author='Шевченко Т.Г.', price\\*1.1, IF(author='Франко І.Я.', price\\*1.05, price)), 2) AS new_price<br>\n",
    "FROM book;**"
   ]
  },
  {
   "cell_type": "markdown",
   "id": "18066249",
   "metadata": {},
   "source": [
    "**Task 7.** Вывести автора, название  и цены тех книг, количество которых меньше 10.\n",
    "\n",
    "**SELECT author, title, price<br>\n",
    "FROM book<br>\n",
    "WHERE amount < 10;<br>**"
   ]
  },
  {
   "cell_type": "markdown",
   "id": "ba6a9fa4",
   "metadata": {},
   "source": [
    "**Task 8.** Вывести название, автора,  цену  и количество всех книг, цена которых меньше 500 или больше 600, а стоимость всех экземпляров этих книг больше или равна 5000.\n",
    "\n",
    "**SELECT title, author, price, amount<br>\n",
    "FROM book<br>\n",
    "WHERE (amount < 500 OR amount > 600) AND (price * amount >= 5000);<br>**"
   ]
  },
  {
   "cell_type": "markdown",
   "id": "606b6be7",
   "metadata": {},
   "source": [
    "**Task 9.** Вывести название и авторов тех книг, цены которых принадлежат интервалу от 540.50 до 800 (включая границы),  а количество или 2, или 3, или 5, или 7.\n",
    "\n",
    "**SELECT title, author<br>\n",
    "FROM book<br>\n",
    "WHERE (price BETWEEN 540.50 AND 800) AND amount IN (2, 3, 5, 7);<br>**"
   ]
  },
  {
   "cell_type": "markdown",
   "id": "3c76beee",
   "metadata": {},
   "source": [
    "**Task 10.** Вывести  автора и название  книг, количество которых принадлежит интервалу от 2 до 14 (включая границы). Информацию  отсортировать сначала по авторам (в обратном алфавитном порядке), а затем по названиям книг (по алфавиту).\n",
    "\n",
    "**SELECT author, title<br>\n",
    "FROM book<br>\n",
    "WHERE amount BETWEEN 2 AND 14<br>\n",
    "ORDER BY 1 DESC, 2;**"
   ]
  },
  {
   "cell_type": "markdown",
   "id": "6342ee02",
   "metadata": {},
   "source": [
    "**Task 11.** Вывести название и автора тех книг, название которых состоит из двух и более слов, а инициалы автора содержат букву «С». Считать, что в названии слова отделяются друг от друга пробелами и не содержат знаков препинания, между фамилией автора и инициалами обязателен пробел, инициалы записываются без пробела в формате: буква, точка, буква, точка. Информацию отсортировать по названию книги в алфавитном порядке.\n",
    "\n",
    "**SELECT title, author<br>\n",
    "FROM book<br>\n",
    "WHERE (title LIKE '_\\% _\\%') AND (author LIKE '\\%С.\\%')<br>\n",
    "ORDER BY title;**"
   ]
  },
  {
   "cell_type": "markdown",
   "id": "ce7fc89e",
   "metadata": {},
   "source": [
    "## Section 1.3"
   ]
  },
  {
   "cell_type": "markdown",
   "id": "a28e1a9e",
   "metadata": {},
   "source": [
    "**Task 1.** Отобрать различные (уникальные) элементы столбца amount таблицы book.\n",
    "\n",
    "**SELECT amount<br>\n",
    "FROM book<br>\n",
    "GROUP BY amount;<br>**"
   ]
  },
  {
   "cell_type": "markdown",
   "id": "36a0f151",
   "metadata": {},
   "source": [
    "**Task 2.** Посчитать, количество различных книг и количество экземпляров книг каждого автора , хранящихся на складе.  Столбцы назвать Автор, Различных_книг и Количество_экземпляров соответственно.\n",
    "\n",
    "**SELECT author AS Автор, COUNT(amount) AS Различных_книг, SUM(amount) AS Количество_экземпляров<br>\n",
    "FROM book<br>\n",
    "GROUP BY author;**"
   ]
  },
  {
   "cell_type": "markdown",
   "id": "8be94bc3",
   "metadata": {},
   "source": [
    "**Task 3.** Вывести фамилию и инициалы автора, минимальную, максимальную и среднюю цену книг каждого автора. Вычисляемые столбцы назвать Минимальная_цена, Максимальная_цена и Средняя_цена соответственно.\n",
    "\n",
    "**SELECT author,<br>\n",
    "       &emsp;&emsp;&emsp;&emsp;MIN(price) AS Минимальная_цена,<br>\n",
    "       &emsp;&emsp;&emsp;&emsp;MAX(price) AS Максимальная_цена,<br>\n",
    "       &emsp;&emsp;&emsp;&emsp;AVG(price) AS Средняя_цена<br>\n",
    "FROM book<br>\n",
    "GROUP BY author;**"
   ]
  },
  {
   "cell_type": "markdown",
   "id": "cf404b99",
   "metadata": {},
   "source": [
    "**Task 4.** Для каждого автора вычислить суммарную стоимость книг S (имя столбца Стоимость), а также вычислить налог на добавленную стоимость  для полученных сумм (имя столбца НДС ) , который включен в стоимость и составляет k = 18%,  а также стоимость книг  (Стоимость_без_НДС) без него. Значения округлить до двух знаков после запятой.\n",
    "\n",
    "**SELECT author,<br>\n",
    "       &emsp;&emsp;&emsp;&emsp;ROUND(SUM(price\\*amount), 2) AS Стоимость,<br>\n",
    "       &emsp;&emsp;&emsp;&emsp;ROUND((SUM(price\\*amount) \\* 0.18)/(1 + 0.18), 2) AS НДС,<br>\n",
    "       &emsp;&emsp;&emsp;&emsp;ROUND(SUM(price\\*amount)/(1 + 0.18), 2) AS Стоимость_без_НДС<br>\n",
    "FROM book<br>\n",
    "GROUP BY author;**"
   ]
  },
  {
   "cell_type": "markdown",
   "id": "6757b026",
   "metadata": {},
   "source": [
    "**Task 5.** Вывести цену самой дешевой книги, цену самой дорогой и среднюю цену уникальных книг на складе. Названия столбцов Минимальная_цена, Максимальная_цена, Средняя_цена соответственно. Среднюю цену округлить до двух знаков после запятой.\n",
    "\n",
    "**SELECT MIN(price) AS Минимальная_цена,<br>\n",
    "       &emsp;&emsp;&emsp;&emsp;MAX(price) AS Максимальная_цена,<br>\n",
    "       &emsp;&emsp;&emsp;&emsp;ROUND(AVG(price), 2) AS Средняя_цена<br>\n",
    "FROM book;**"
   ]
  },
  {
   "cell_type": "markdown",
   "id": "e8120840",
   "metadata": {},
   "source": [
    "**Task 6.** Вычислить среднюю цену и суммарную стоимость тех книг, количество экземпляров которых принадлежит интервалу от 5 до 14, включительно. Столбцы назвать Средняя_цена и Стоимость, значения округлить до 2-х знаков после запятой.\n",
    "\n",
    "**SELECT ROUND(AVG(price), 2) AS Средняя_цена, SUM(amount\\*price) AS Стоимость<br>\n",
    "FROM book<br>\n",
    "WHERE amount BETWEEN 5 and 14;**"
   ]
  },
  {
   "cell_type": "markdown",
   "id": "af86fc48",
   "metadata": {},
   "source": [
    "**Task 7.** Посчитать стоимость всех экземпляров каждого автора без учета книг «Веселий цвинтар» и «Тигролови». В результат включить только тех авторов, у которых суммарная стоимость книг (без учета книг «Веселий цвинтар» и «Тигролови») более 5000 руб. Вычисляемый столбец назвать Стоимость. Результат отсортировать по убыванию стоимости.\n",
    "\n",
    "**SELECT author, SUM(price * amount) AS Стоимость<br>\n",
    "FROM book<br>\n",
    "WHERE title NOT IN('Веселий цвинтар', 'Тигролови')<br>\n",
    "GROUP BY author<br>\n",
    "HAVING SUM(price * amount) > 5000<br>\n",
    "ORDER BY Стоимость DESC;<br>**"
   ]
  },
  {
   "cell_type": "markdown",
   "id": "73ffdcc3",
   "metadata": {},
   "source": [
    "## Section 1.4"
   ]
  },
  {
   "cell_type": "markdown",
   "id": "0f2a82c3",
   "metadata": {},
   "source": [
    "**Task 1.** Вывести информацию (автора, название и цену) о  книгах, цены которых меньше или равны средней цене книг на складе. Информацию вывести в отсортированном по убыванию цены виде. Среднее вычислить как среднее по цене книги.\n",
    "\n",
    "**SELECT author, title, price<br>\n",
    "FROM book<br>\n",
    "WHERE price <= (SELECT AVG(price)<br>\n",
    "                &emsp;&emsp;&emsp;&emsp;&emsp;&emsp;&emsp;&emsp;FROM book)<br>\n",
    "ORDER BY price DESC;**"
   ]
  },
  {
   "cell_type": "markdown",
   "id": "66c0fa2e",
   "metadata": {},
   "source": [
    "**Task 2.** Вывести информацию (автора, название и цену) о тех книгах, цены которых превышают минимальную цену книги на складе не более чем на 150 рублей в отсортированном по возрастанию цены виде.\n",
    "\n",
    "**SELECT author, title, price<br>\n",
    "FROM book<br>\n",
    "WHERE ABS(price - (SELECT MIN(price) FROM book)) <= 150<br>\n",
    "ORDER BY price;<br>**"
   ]
  },
  {
   "cell_type": "markdown",
   "id": "283ebba7",
   "metadata": {},
   "source": [
    "**Task 3.** Вывести информацию (автора, книгу и количество) о тех книгах, количество экземпляров которых в таблице book не дублируется.\n",
    "\n",
    "**SELECT author, title, amount<br>\n",
    "FROM book<br>\n",
    "WHERE amount NOT IN(SELECT amount<br>\n",
    "                    &emsp;&emsp;&emsp;&emsp;&emsp;&emsp;&emsp;&emsp;FROM book<br>\n",
    "                    &emsp;&emsp;&emsp;&emsp;&emsp;&emsp;&emsp;&emsp;GROUP BY amount<br>\n",
    "                    &emsp;&emsp;&emsp;&emsp;&emsp;&emsp;&emsp;&emsp;HAVING COUNT(amount) >= 2);**\n"
   ]
  },
  {
   "cell_type": "markdown",
   "id": "68e3ff60",
   "metadata": {},
   "source": [
    "**Task 4.** Вывести информацию о книгах(автор, название, цена), цена которых меньше самой большой из минимальных цен, вычисленных для каждого автора.\n",
    "\n",
    "**SELECT author, title, price<br>\n",
    "FROM book<br>\n",
    "WHERE price < ANY(SELECT MIN(price)<br>\n",
    "                   &emsp;&emsp;&emsp;&emsp;&emsp;&emsp;&emsp;&emsp;FROM book<br>\n",
    "                   &emsp;&emsp;&emsp;&emsp;&emsp;&emsp;&emsp;&emsp;GROUP BY author);**"
   ]
  },
  {
   "cell_type": "markdown",
   "id": "13293937",
   "metadata": {},
   "source": [
    "**Task 5.** Посчитать сколько и каких экземпляров книг нужно заказать поставщикам, чтобы на складе стало одинаковое количество экземпляров каждой книги, равное значению самого большего количества экземпляров одной книги на складе. Вывести название книги, ее автора, текущее количество экземпляров на складе и количество заказываемых экземпляров книг. Последнему столбцу присвоить имя Заказ. В результат не включать книги, которые заказывать не нужно.\n",
    "\n",
    "**SELECT title, author, amount,<br>\n",
    "&emsp;&emsp;&emsp;&emsp;ABS(amount - (SELECT MAX(amount) FROM book)) AS Заказ<br>\n",
    "FROM book<br>\n",
    "WHERE amount <> (SELECT MAX(amount) FROM book);**"
   ]
  },
  {
   "cell_type": "markdown",
   "id": "c4b3c85c",
   "metadata": {},
   "source": [
    "## Section 1.5"
   ]
  },
  {
   "cell_type": "markdown",
   "id": "59d30050",
   "metadata": {},
   "source": [
    "**Task 1.** Создать таблицу поставка (supply), которая имеет ту же структуру, что и таблиц book.\n",
    "\n",
    "**CREATE TABLE supply(<br>\n",
    "    &emsp;&emsp;&emsp;&emsp;supply_id INT PRIMARY KEY AUTO_INCREMENT,<br>\n",
    "    &emsp;&emsp;&emsp;&emsp;title VARCHAR(50),<br>\n",
    "    &emsp;&emsp;&emsp;&emsp;author VARCHAR(30),<br>\n",
    "    &emsp;&emsp;&emsp;&emsp;price DECIMAL(8, 2),<br>\n",
    "    &emsp;&emsp;&emsp;&emsp;amount INT<br>\n",
    ");**"
   ]
  },
  {
   "cell_type": "markdown",
   "id": "1433bf31",
   "metadata": {},
   "source": [
    "**Task 2.** Занесите в таблицу supply четыре записи.\n",
    "\n",
    "**INSERT INTO supply(title, author, price, amount)<br>\n",
    "VALUES ('Веселий цвинтар', 'Стус В.С.', 518.99, 2),<br>\n",
    "       &emsp;&emsp;&emsp;&emsp;('Листи до сина', 'Стус В.С.', 570.20, 6),<br>\n",
    "       &emsp;&emsp;&emsp;&emsp;('Вибране: Поезії', 'Стус В.С.', 540.50, 7),<br>\n",
    "       &emsp;&emsp;&emsp;&emsp;('Палімпсести', 'Стус В.С.', 360.80, 3);**"
   ]
  },
  {
   "cell_type": "markdown",
   "id": "f4e2d03f",
   "metadata": {},
   "source": [
    "**Task 3.** Добавить из таблицы supply в таблицу book, все книги, кроме книг, написанных Хвильовим М.Г. и Багряним І.П.\n",
    "\n",
    "**INSERT INTO book(title, author, price, amount)<br>\n",
    "SELECT title, author, price, amount<br>\n",
    "FROM supply<br>\n",
    "WHERE author NOT IN('Багряний І.П.', 'Хвильовий М.Г.');**"
   ]
  },
  {
   "cell_type": "markdown",
   "id": "cfe02e78",
   "metadata": {},
   "source": [
    "**Task 4.** Занести из таблицы supply в таблицу book только те книги, авторов которых нет в  book.\n",
    "\n",
    "**INSERT INTO book(title, author, price, amount)<br>\n",
    "SELECT title, author, price, amount<br>\n",
    "FROM supply<br>\n",
    "WHERE author NOT IN(SELECT author<br>\n",
    "                    &emsp;&emsp;&emsp;&emsp;&emsp;&emsp;&emsp;&emsp;FROM book<br>\n",
    "                    &emsp;&emsp;&emsp;&emsp;&emsp;&emsp;&emsp;&emsp;GROUP BY author);**"
   ]
  },
  {
   "cell_type": "markdown",
   "id": "08b238e4",
   "metadata": {},
   "source": [
    "**Task 5.** Уменьшить на 10% цену тех книг в таблице book, количество которых принадлежит интервалу от 5 до 10, включая границы.\n",
    "\n",
    "**UPDATE book<br>\n",
    "SET price = price * 0.9<br>\n",
    "WHERE amount BETWEEN 5 AND 10;**"
   ]
  },
  {
   "cell_type": "markdown",
   "id": "4b897244",
   "metadata": {},
   "source": [
    "**Task 6.** В таблице book необходимо скорректировать значение для покупателя в столбце buy таким образом, чтобы оно не превышало количество экземпляров книг, указанных в столбце amount. А цену тех книг, которые покупатель не заказывал, снизить на 10%.\n",
    "\n",
    "**UPDATE book<br>\n",
    "SET buy = IF(buy > amount, amount, buy),<br>\n",
    "    &emsp;&emsp;price = IF(buy = 0, price * 0.9, price);<br>**"
   ]
  },
  {
   "cell_type": "markdown",
   "id": "47ffd0f7",
   "metadata": {},
   "source": [
    "**Task 7.** Для тех книг в таблице book , которые есть в таблице supply, не только увеличить их количество в таблице book ( увеличить их количество на значение столбца amountтаблицы supply), но и пересчитать их цену (для каждой книги найти сумму цен из таблиц book и supply и разделить на 2).\n",
    "\n",
    "**UPDATE book, supply<br>\n",
    "SET book.amount = book.amount + supply.amount,<br>\n",
    "    &emsp;&emsp;book.price = (book.price + supply.price) / 2<br>\n",
    "WHERE book.title = supply.title AND book.author = supply.author;**"
   ]
  },
  {
   "cell_type": "markdown",
   "id": "43bf0a6a",
   "metadata": {},
   "source": [
    "**Task 8.** Удалить из таблицы supply книги тех авторов, общее количество экземпляров книг которых в таблице book превышает 10.\n",
    "\n",
    "**DELETE FROM supply<br>\n",
    "WHERE author IN (SELECT author<br>\n",
    "&emsp;&emsp;&emsp;&emsp;&emsp;&emsp;&emsp;&emsp;FROM book<br>\n",
    "&emsp;&emsp;&emsp;&emsp;&emsp;&emsp;&emsp;&emsp;GROUP BY author<br>\n",
    "&emsp;&emsp;&emsp;&emsp;&emsp;&emsp;&emsp;&emsp;HAVING SUM(amount) > 10);**"
   ]
  },
  {
   "cell_type": "markdown",
   "id": "c0c565c5",
   "metadata": {},
   "source": [
    "**Task 9.** Создать таблицу заказ (ordering), куда включить авторов и названия тех книг, количество экземпляров которых в таблице book меньше среднего количества экземпляров книг в таблице book. В таблицу включить столбец   amount, в котором для всех книг указать одинаковое значение - среднее количество экземпляров книг в таблице book.\n",
    "\n",
    "**CREATE TABLE ordering AS<br>\n",
    "SELECT author, title, (SELECT AVG(amount) FROM book) AS amount<br>\n",
    "FROM book<br>\n",
    "WHERE amount < (SELECT AVG(amount)<br>\n",
    "&emsp;&emsp;&emsp;&emsp;&emsp;&emsp;&emsp;&emsp;&emsp;FROM book);**"
   ]
  },
  {
   "cell_type": "markdown",
   "id": "8d7bd258",
   "metadata": {},
   "source": [
    "## Section 1.6"
   ]
  },
  {
   "cell_type": "markdown",
   "id": "b373b047",
   "metadata": {},
   "source": [
    "**Task 1.** Вывести из таблицы trip информацию о командировках тех сотрудников, фамилия которых заканчивается на букву «а», в отсортированном по убыванию даты последнего дня командировки виде. В результат включить столбцы name, city, per_diem, date_first, date_last.\n",
    "\n",
    "**SELECT name, city, per_diem, date_first, date_last<br>\n",
    "FROM trip<br>\n",
    "WHERE name LIKE '%а %'<br>\n",
    "ORDER BY date_last DESC;**"
   ]
  },
  {
   "cell_type": "markdown",
   "id": "8e97ccc5",
   "metadata": {},
   "source": [
    "**Task 2.** Вывести в алфавитном порядке фамилии и инициалы тех сотрудников, которые были в командировке в Киеве.\n",
    "\n",
    "**SELECT name<br>\n",
    "FROM trip<br>\n",
    "WHERE city = 'Киев'<br>\n",
    "GROUP BY name<br>\n",
    "ORDER BY name;**"
   ]
  },
  {
   "cell_type": "markdown",
   "id": "e3eb4b14",
   "metadata": {},
   "source": [
    "**Task 3.** Для каждого города посчитать, сколько раз сотрудники в нем были. Информацию вывести в отсортированном в алфавитном порядке по названию городов. Вычисляемый столбец назвать Количество. \n",
    "\n",
    "**SELECT city, COUNT(name) AS Количество<br>\n",
    "FROM trip<br>\n",
    "GROUP BY city<br>\n",
    "ORDER BY city;**"
   ]
  },
  {
   "cell_type": "markdown",
   "id": "325fab0c",
   "metadata": {},
   "source": [
    "**Task 4.** Вывести два города, в которых чаще всего были в командировках сотрудники. Вычисляемый столбец назвать Количество.\n",
    "\n",
    "**SELECT city, COUNT(city) AS Количество<br>\n",
    "FROM trip<br>\n",
    "GROUP BY city<br>\n",
    "ORDER BY Количество DESC<br>\n",
    "LIMIT 2;**"
   ]
  },
  {
   "cell_type": "markdown",
   "id": "788d3082",
   "metadata": {},
   "source": [
    "**Task 5.** Вывести информацию о командировках во все города кроме Киева и Харькова (фамилии и инициалы сотрудников, город, длительность командировки в днях, при этом первый и последний день относится к периоду командировки). Последний столбец назвать Длительность. Информацию вывести в упорядоченном по убыванию длительности поездки, а потом по убыванию названий городов (в обратном алфавитном порядке).\n",
    "\n",
    "**SELECT name, city, DATEDIFF(date_last, date_first) + 1 AS Длительность<br>\n",
    "FROM trip<br>\n",
    "WHERE city NOT IN ('Киев', 'Харьков')<br>\n",
    "ORDER BY Длительность DESC, city DESC;**"
   ]
  },
  {
   "cell_type": "markdown",
   "id": "379cbbe2",
   "metadata": {},
   "source": [
    "**Task 6.** Вывести информацию о командировках сотрудника(ов), которые были самыми короткими по времени. В результат включить столбцы name, city, date_first, date_last.\n",
    "\n",
    "**SELECT name, city, date_first, date_last<br>\n",
    "FROM trip<br>\n",
    "WHERE DATEDIFF(date_last, date_first) = (<br>\n",
    "SELECT MIN(DATEDIFF(date_last, date_first))<br>\n",
    "FROM trip<br>\n",
    ");**"
   ]
  },
  {
   "cell_type": "markdown",
   "id": "4f3b8b90",
   "metadata": {},
   "source": [
    "**Task 7.** Вывести информацию о командировках, начало и конец которых относятся к одному месяцу (год может быть любой). В результат включить столбцы name, city, date_first, date_last. Строки отсортировать сначала  в алфавитном порядке по названию города, а затем по фамилии сотрудника.\n",
    "\n",
    "**SELECT name, city, date_first, date_last<br>\n",
    "FROM trip<br>\n",
    "WHERE MONTH(date_first) = MONTH(date_last)<br>\n",
    "ORDER BY city, name;**"
   ]
  },
  {
   "cell_type": "markdown",
   "id": "0d5fad8c",
   "metadata": {},
   "source": [
    "**Task 8.** Вывести название месяца и количество командировок для каждого месяца. Считаем, что командировка относится к некоторому месяцу, если она началась в этом месяце. Информацию вывести сначала в отсортированном по убыванию количества, а потом в алфавитном порядке по названию месяца виде. Название столбцов – Месяц и Количество.\n",
    "\n",
    "**SELECT MONTHNAME(date_first) AS Месяц, COUNT(name) AS Количество<br>\n",
    "FROM trip<br>\n",
    "GROUP BY MONTHNAME(date_first)<br>\n",
    "ORDER BY Количество DESC, Месяц;**"
   ]
  },
  {
   "cell_type": "markdown",
   "id": "acf79708",
   "metadata": {},
   "source": [
    "**Task 9.** Вывести сумму суточных (произведение количества дней командировки и размера суточных) для командировок, первый день которых пришелся на февраль или март 2020 года. Значение суточных для каждой командировки занесено в столбец per_diem. Вывести фамилию и инициалы сотрудника, город, первый день командировки и сумму суточных. Последний столбец назвать Сумма. Информацию отсортировать сначала  в алфавитном порядке по фамилиям сотрудников, а затем по убыванию суммы суточных.\n",
    "\n",
    "**SELECT name, city, date_first,<br>\n",
    "       &emsp;&emsp;&emsp;&emsp;(DATEDIFF(date_last, date_first) + 1) * per_diem AS Сумма<br>\n",
    "FROM trip<br>\n",
    "WHERE MONTH(date_first) IN (2, 3)<br>\n",
    "ORDER BY name, Сумма DESC;**"
   ]
  },
  {
   "cell_type": "markdown",
   "id": "c754811e",
   "metadata": {},
   "source": [
    "**Task 10.** Вывести фамилию с инициалами и общую сумму суточных, полученных за все командировки для тех сотрудников, которые были в командировках больше чем 3 раза, в отсортированном по убыванию сумм суточных виде. Последний столбец назвать Сумма.\n",
    "\n",
    "**SELECT name, SUM((DATEDIFF(date_last, date_first) + 1) * per_diem) AS Сумма<br>\n",
    "FROM trip<br>\n",
    "GROUP BY name<br>\n",
    "HAVING COUNT(name) > 3<br>\n",
    "ORDER BY Сумма DESC;**"
   ]
  },
  {
   "cell_type": "markdown",
   "id": "1141c3d2",
   "metadata": {},
   "source": [
    "## Section 1.7"
   ]
  },
  {
   "cell_type": "markdown",
   "id": "fe8f065f",
   "metadata": {},
   "source": [
    "**Task 1.** Создать таблицу fine.\n",
    "\n",
    "**CREATE TABLE fine(<br>\n",
    "    &emsp;&emsp;&emsp;&emsp;fine_id INT PRIMARY KEY AUTO_INCREMENT,<br>\n",
    "    &emsp;&emsp;&emsp;&emsp;name VARCHAR(30),<br>\n",
    "    &emsp;&emsp;&emsp;&emsp;number_plate VARCHAR(6),<br>\n",
    "    &emsp;&emsp;&emsp;&emsp;violation VARCHAR(50),<br>\n",
    "    &emsp;&emsp;&emsp;&emsp;sum_fine DECIMAL(8, 2),<br>\n",
    "    &emsp;&emsp;&emsp;&emsp;date_violation DATE,<br>\n",
    "    &emsp;&emsp;&emsp;&emsp;date_payment DATE<br>\n",
    "&emsp;&emsp;&emsp;&emsp;);**"
   ]
  },
  {
   "cell_type": "markdown",
   "id": "167511c0",
   "metadata": {},
   "source": [
    "**Task 2.** В таблицу fine первые 5 строк уже занесены. Добавить в таблицу записи с ключевыми значениями 6, 7, 8.\n",
    "\n",
    "**INSERT INTO fine(name, number_plate, violation, date_violation)<br>\n",
    "VALUES ('Баранов П.Е.', 'Р523ВТ', 'Превышение скорости(от 40 до 60)', '2020-02-14'),<br>\n",
    "       &emsp;&emsp;&emsp;&emsp;('Абрамова К.А.', 'О111АВ', 'Проезд на запрещающий сигнал', '2020-02-23'),<br>\n",
    "       &emsp;&emsp;&emsp;&emsp;('Яковлев Г.Р.', 'Т330ТТ', 'Проезд на запрещающий сигнал', '2020-03-03');**<br>\n",
    "\n",
    "**SELECT \\* FROM fine;**"
   ]
  },
  {
   "cell_type": "markdown",
   "id": "e03b7338",
   "metadata": {},
   "source": [
    "**Task 3.** Занести в таблицу fine суммы штрафов, которые должен оплатить водитель, в соответствии с данными из таблицы traffic_violation. При этом суммы заносить только в пустые поля столбца  sum_fine.\n",
    "\n",
    "**UPDATE fine AS f, traffic_violation AS tv<br>\n",
    "SET f.sum_fine = tv.sum_fine<br>\n",
    "WHERE f.sum_fine IS NULL AND f.violation = tv.violation;**"
   ]
  },
  {
   "cell_type": "markdown",
   "id": "0e3d5929",
   "metadata": {},
   "source": [
    "**Task 4.** Вывести фамилию, номер машины и нарушение только для тех водителей, которые на одной машине нарушили одно и то же правило   два и более раз. При этом учитывать все нарушения, независимо от того оплачены они или нет. Информацию отсортировать в алфавитном порядке, сначала по фамилии водителя, потом по номеру машины и, наконец, по нарушению.\n",
    "\n",
    "**SELECT name, number_plate, violation<br>\n",
    "FROM fine<br>\n",
    "GROUP BY name, number_plate, violation<br>\n",
    "HAVING COUNT(name) >= 2<br>\n",
    "ORDER BY name, number_plate, violation;**"
   ]
  },
  {
   "cell_type": "markdown",
   "id": "920bbc55",
   "metadata": {},
   "source": [
    "**Task 5.** В таблице fine увеличить в два раза сумму неоплаченных штрафов для отобранных на предыдущем шаге записей.\n",
    "\n",
    "**UPDATE fine AS f,<br>\n",
    "&emsp;&emsp;&emsp;&emsp;(SELECT name, number_plate, violation<br>\n",
    "&emsp;&emsp;&emsp;&emsp;FROM fine<br>\n",
    "&emsp;&emsp;&emsp;&emsp;GROUP BY name, number_plate, violation<br>\n",
    "&emsp;&emsp;&emsp;&emsp;HAVING COUNT(name) >= 2<br>\n",
    "&emsp;&emsp;&emsp;&emsp;ORDER BY name, number_plate, violation) AS query_in**<br>\n",
    "\n",
    "**SET f.sum_fine = f.sum_fine * 2<br>\n",
    "WHERE f.name = query_in.name AND<br>\n",
    "&emsp;&emsp;&emsp;&emsp;f.number_plate = query_in.number_plate AND<br>\n",
    "&emsp;&emsp;&emsp;&emsp;f.violation = query_in.violation AND<br>\n",
    "&emsp;&emsp;&emsp;&emsp;f.date_payment IS NULL;**<br>\n",
    "\n",
    "**SELECT * FROM fine;**"
   ]
  },
  {
   "cell_type": "markdown",
   "id": "e3e47815",
   "metadata": {},
   "source": [
    "**Task 6.** Водители оплачивают свои штрафы. В таблице payment занесены даты их оплаты. Необходимо:\n",
    "1) в таблицу fine занести дату оплаты соответствующего штрафа из таблицы payment; \n",
    "2) уменьшить начисленный штраф в таблице fine в два раза  (только для тех штрафов, информация о которых занесена в таблицу payment) , если оплата произведена не позднее 20 дней со дня нарушения.\n",
    "\n",
    "**UPDATE fine AS f, payment AS p<br>\n",
    "SET f.date_payment = p.date_payment,<br>\n",
    "    &emsp;&emsp;&emsp;&emsp;f.sum_fine = IF(DATEDIFF(f.date_payment, f.date_violation) <= 20, f.sum_fine / 2, f.sum_fine)**<br>\n",
    "\n",
    "**WHERE f.name = p.name AND<br>\n",
    "      &emsp;&emsp;&emsp;&emsp;f.number_plate = p.number_plate AND<br>\n",
    "      &emsp;&emsp;&emsp;&emsp;f.violation = p.violation AND<br>\n",
    "      &emsp;&emsp;&emsp;&emsp;f.date_violation = p.date_violation AND<br>\n",
    "      &emsp;&emsp;&emsp;&emsp;f.date_payment IS NULL;**"
   ]
  },
  {
   "cell_type": "markdown",
   "id": "0699cd4d",
   "metadata": {},
   "source": [
    "**Task 7.** Создать новую таблицу back_payment, куда внести информацию о неоплаченных штрафах (Фамилию и инициалы водителя, номер машины, нарушение, сумму штрафа  и  дату нарушения) из таблицы fine.\n",
    "\n",
    "**CREATE TABLE back_payment AS**<br>\n",
    "\n",
    "**SELECT name, number_plate, violation, sum_fine, date_violation<br>\n",
    "FROM fine<br>\n",
    "WHERE date_payment IS NULL;**<br>\n",
    "\n",
    "**SELECT * FROM back_payment;**"
   ]
  },
  {
   "cell_type": "markdown",
   "id": "d2696770",
   "metadata": {},
   "source": [
    "**Task 8.** Удалить из таблицы fine информацию о нарушениях, совершенных раньше 1 февраля 2020 года.\n",
    "\n",
    "**DELETE FROM fine<br>\n",
    "WHERE date_violation < '2020-02-01';**"
   ]
  },
  {
   "cell_type": "markdown",
   "id": "465e80a6",
   "metadata": {},
   "source": [
    "# Section 2. Several tabels tasks"
   ]
  },
  {
   "cell_type": "markdown",
   "id": "8e45670b",
   "metadata": {},
   "source": [
    "## Section 2.1"
   ]
  },
  {
   "cell_type": "markdown",
   "id": "39850b0b",
   "metadata": {},
   "source": [
    "**Task 1.** Создать таблицу author.\n",
    "\n",
    "**CREATE TABLE author(<br>\n",
    "    &emsp;&emsp;&emsp;&emsp;author_id INT PRIMARY KEY AUTO_INCREMENT,<br>\n",
    "    &emsp;&emsp;&emsp;&emsp;name_author VARCHAR(50)<br>\n",
    "&emsp;&emsp;&emsp;&emsp;);**"
   ]
  },
  {
   "cell_type": "markdown",
   "id": "e97d8fe7",
   "metadata": {},
   "source": [
    "**Task 2.** Заполнить таблицу author.\n",
    "\n",
    "**INSERT INTO author(name_author)<br>\n",
    "VALUES ('Франко І.Я.'),<br>\n",
    "       &emsp;&emsp;&emsp;&emsp;('Шевченко Т.Г.'),<br>\n",
    "       &emsp;&emsp;&emsp;&emsp;('Стус В.С.'),<br>\n",
    "       &emsp;&emsp;&emsp;&emsp;('Багряний І.П.');**<br>\n",
    "\n",
    "**SELECT * FROM author;**"
   ]
  },
  {
   "cell_type": "markdown",
   "id": "67b62883",
   "metadata": {},
   "source": [
    "**Task 3.** Перепишите запрос на создание таблицы book , чтобы ее структура соответствовала структуре, показанной на логической схеме (таблица genre уже создана, порядок следования столбцов - как на логической схеме в таблице book, genre_id  - внешний ключ) . Для genre_id ограничение о недопустимости пустых значений не задавать.\n",
    "\n",
    "**CREATE TABLE book (<br>\n",
    "    &emsp;&emsp;&emsp;&emsp;book_id INT PRIMARY KEY AUTO_INCREMENT,<br> \n",
    "    &emsp;&emsp;&emsp;&emsp;title VARCHAR(50),<br> \n",
    "    &emsp;&emsp;&emsp;&emsp;author_id INT NOT NULL,<br>\n",
    "    &emsp;&emsp;&emsp;&emsp;genre_id INT,<br>\n",
    "    &emsp;&emsp;&emsp;&emsp;price DECIMAL(8,2),<br> \n",
    "    &emsp;&emsp;&emsp;&emsp;amount INT,<br> \n",
    "    &emsp;&emsp;&emsp;&emsp;FOREIGN KEY (author_id)  REFERENCES author (author_id),<br>\n",
    "    &emsp;&emsp;&emsp;&emsp;FOREIGN KEY (genre_id) REFERENCES genre (genre_id)<br>\n",
    "&emsp;&emsp;&emsp;&emsp;);**"
   ]
  },
  {
   "cell_type": "markdown",
   "id": "e5844c05",
   "metadata": {},
   "source": [
    "**Task 4.** Создать таблицу book той же структуры, что и на предыдущем шаге. Будем считать, что при удалении автора из таблицы author, должны удаляться все записи о книгах из таблицы book, написанные этим автором. А при удалении жанра из таблицы genre для соответствующей записи book установить значение Null в столбце genre_id.\n",
    "\n",
    "**CREATE TABLE book (<br>\n",
    "    &emsp;&emsp;&emsp;&emsp;book_id INT PRIMARY KEY AUTO_INCREMENT,<br> \n",
    "    &emsp;&emsp;&emsp;&emsp;title VARCHAR(50),<br> \n",
    "    &emsp;&emsp;&emsp;&emsp;author_id INT NOT NULL,<br>\n",
    "    &emsp;&emsp;&emsp;&emsp;genre_id INT,<br>\n",
    "    &emsp;&emsp;&emsp;&emsp;price DECIMAL(8,2),<br> \n",
    "    &emsp;&emsp;&emsp;&emsp;amount INT,<br> \n",
    "    &emsp;&emsp;&emsp;&emsp;FOREIGN KEY (author_id)  REFERENCES author (author_id) ON DELETE CASCADE,<br>\n",
    "    &emsp;&emsp;&emsp;&emsp;FOREIGN KEY (genre_id) REFERENCES genre (genre_id) ON DELETE SET NULL<br>\n",
    "&emsp;&emsp;&emsp;&emsp;);**"
   ]
  },
  {
   "cell_type": "markdown",
   "id": "d88df691",
   "metadata": {},
   "source": [
    "**Task 5.** Добавьте три последние записи (с ключевыми значениями 6, 7, 8) в таблицу book.\n",
    "\n",
    "**INSERT INTO book(title, author_id, genre_id, price, amount)<br>\n",
    "VALUES ('Вірши й поеми', 3, 2, 650.00, 15),<br>\n",
    "       &emsp;&emsp;&emsp;&emsp;('Поеми', 3, 2, 570.20, 6),<br>\n",
    "       &emsp;&emsp;&emsp;&emsp;('Лірика', 4, 2, 518.99, 2);**<br>\n",
    "       \n",
    "**SELECT * FROM book;**"
   ]
  },
  {
   "cell_type": "markdown",
   "id": "23b91b07",
   "metadata": {},
   "source": [
    "## Section 2.2"
   ]
  },
  {
   "cell_type": "markdown",
   "id": "c58b8bb2",
   "metadata": {},
   "source": [
    "**Task 1.** Вывести название, жанр и цену тех книг, количество которых больше 8, в отсортированном по убыванию цены виде.\n",
    "\n",
    "**SELECT title, name_genre, price<br>\n",
    "FROM<br>\n",
    "    &emsp;&emsp;&emsp;genre INNER JOIN book<br>\n",
    "    &emsp;&emsp;&emsp;ON genre.genre_id = book.genre_id<br>\n",
    "WHERE amount > 8<br>\n",
    "ORDER BY price DESC;**"
   ]
  },
  {
   "cell_type": "markdown",
   "id": "4c4acdd7",
   "metadata": {},
   "source": [
    "**Task 2.** Вывести все жанры, которые не представлены в книгах на складе.\n",
    "\n",
    "**SELECT name_genre<br>\n",
    "FROM<br>\n",
    "   &emsp;&emsp;&emsp;genre LEFT JOIN book<br>\n",
    "   &emsp;&emsp;&emsp;ON genre.genre_id = book.genre_id<br>\n",
    "   &emsp;&emsp;&emsp;WHERE title IS NULL;**"
   ]
  },
  {
   "cell_type": "markdown",
   "id": "3e788de6",
   "metadata": {},
   "source": [
    "**Task 3.** Необходимо в каждом городе провести выставку книг каждого автора в течение 2020 года. Дату проведения выставки выбрать случайным образом. Создать запрос, который выведет город, автора и дату проведения выставки. Последний столбец назвать Дата. Информацию вывести, отсортировав сначала в алфавитном порядке по названиям городов, а потом по убыванию дат проведения выставок.\n",
    "\n",
    "**SELECT name_city, name_author,<br>\n",
    "       &emsp;&emsp;&emsp;DATE_ADD('2020-01-01', INTERVAL FLOOR(RAND() * 365) DAY) AS Дата<br>\n",
    "FROM<br>\n",
    "    &emsp;&emsp;&emsp;city CROSS JOIN author<br>\n",
    "ORDER BY name_city, Дата DESC;**"
   ]
  },
  {
   "cell_type": "markdown",
   "id": "4144ec4a",
   "metadata": {},
   "source": [
    "**Task 4.** Вывести информацию о книгах (жанр, книга, автор), относящихся к жанру, включающему слово «роман» в отсортированном по названиям книг виде.\n",
    "\n",
    "**SELECT name_genre, title, name_author<br>\n",
    "FROM<br>\n",
    "    &emsp;&emsp;&emsp;book<br>\n",
    "    &emsp;&emsp;&emsp;INNER JOIN author ON book.author_id = author.author_id<br>\n",
    "    &emsp;&emsp;&emsp;INNER JOIN genre ON book.genre_id = genre.genre_id<br>\n",
    "WHERE name_genre = 'Роман'<br>\n",
    "ORDER BY title;**"
   ]
  },
  {
   "cell_type": "markdown",
   "id": "05b6f422",
   "metadata": {},
   "source": [
    "**Task 5.** Посчитать количество экземпляров  книг каждого автора из таблицы author.  Вывести тех авторов,  количество книг которых меньше 10, в отсортированном по возрастанию количества виде. Последний столбец назвать Количество.\n",
    "\n",
    "**SELECT name_author,<br>\n",
    "       &emsp;&emsp;&emsp;&emsp;SUM(amount) AS Количество<br>\n",
    "FROM author LEFT JOIN book<br>\n",
    "ON author.author_id = book.author_id<br>\n",
    "GROUP BY name_author<br>\n",
    "HAVING SUM(amount) < 10 OR SUM(amount) IS NULL<br>\n",
    "ORDER BY Количество;**"
   ]
  },
  {
   "cell_type": "markdown",
   "id": "1f01915a",
   "metadata": {},
   "source": [
    "**Task 6.** Вывести в алфавитном порядке всех авторов, которые пишут только в одном жанре.\n",
    "\n",
    "**SELECT name_author<br>\n",
    "FROM author INNER JOIN book<br>\n",
    "ON author.author_id = book.author_id<br>\n",
    "GROUP BY name_author<br>\n",
    "HAVING COUNT(DISTINCT(genre_id)) = 1;**"
   ]
  },
  {
   "cell_type": "markdown",
   "id": "771f968b",
   "metadata": {},
   "source": [
    "**Task 7.** Вывести информацию о книгах (название книги, фамилию и инициалы автора, название жанра, цену и количество экземпляров книги), написанных в самых популярных жанрах, в отсортированном в алфавитном порядке по названию книг виде. Самым популярным считать жанр, общее количество экземпляров книг которого на складе максимально.\n",
    "\n",
    "**SELECT title, name_author, name_genre, price, amount<br>\n",
    "FROM<br>\n",
    "    &emsp;&emsp;&emsp;book<br>\n",
    "    &emsp;&emsp;&emsp;INNER JOIN author ON book.author_id = author.author_id<br>\n",
    "    &emsp;&emsp;&emsp;INNER JOIN genre ON book.genre_id = genre.genre_id<br>\n",
    "WHERE book.genre_id IN (SELECT subtable_1.genre_id<br>\n",
    "&emsp;&emsp;&emsp;&emsp;&emsp;&emsp;&emsp;&emsp;&emsp;&emsp;&emsp;&emsp;&emsp;FROM<br>\n",
    "&emsp;&emsp;&emsp;&emsp;&emsp;&emsp;&emsp;&emsp;&emsp;&emsp;&emsp;&emsp;&emsp;&emsp;&emsp;&emsp;(SELECT genre_id, SUM(amount) AS sum_genre<br>\n",
    "&emsp;&emsp;&emsp;&emsp;&emsp;&emsp;&emsp;&emsp;&emsp;&emsp;&emsp;&emsp;&emsp;&emsp;&emsp;&emsp;FROM book<br>\n",
    "&emsp;&emsp;&emsp;&emsp;&emsp;&emsp;&emsp;&emsp;&emsp;&emsp;&emsp;&emsp;&emsp;&emsp;&emsp;&emsp;GROUP BY genre_id) subtable_1<br>\n",
    "&emsp;&emsp;&emsp;&emsp;&emsp;&emsp;&emsp;&emsp;&emsp;&emsp;&emsp;&emsp;&emsp;INNER JOIN<br>\n",
    "&emsp;&emsp;&emsp;&emsp;&emsp;&emsp;&emsp;&emsp;&emsp;&emsp;&emsp;&emsp;&emsp;&emsp;&emsp;&emsp;(SELECT genre_id, SUM(amount) AS sum_genre<br>\n",
    "&emsp;&emsp;&emsp;&emsp;&emsp;&emsp;&emsp;&emsp;&emsp;&emsp;&emsp;&emsp;&emsp;&emsp;&emsp;&emsp;FROM book<br>\n",
    "&emsp;&emsp;&emsp;&emsp;&emsp;&emsp;&emsp;&emsp;&emsp;&emsp;&emsp;&emsp;&emsp;&emsp;&emsp;&emsp;GROUP BY genre_id<br>\n",
    "&emsp;&emsp;&emsp;&emsp;&emsp;&emsp;&emsp;&emsp;&emsp;&emsp;&emsp;&emsp;&emsp;&emsp;&emsp;&emsp;ORDER BY sum_genre DESC<br>\n",
    "&emsp;&emsp;&emsp;&emsp;&emsp;&emsp;&emsp;&emsp;&emsp;&emsp;&emsp;&emsp;&emsp;&emsp;&emsp;&emsp;LIMIT 1) subtable_2<br>\n",
    "&emsp;&emsp;&emsp;&emsp;&emsp;&emsp;&emsp;&emsp;&emsp;&emsp;&emsp;&emsp;&emsp;ON subtable_1.sum_genre = subtable_2.sum_genre)<br>\n",
    "ORDER BY title;**"
   ]
  },
  {
   "cell_type": "markdown",
   "id": "b007607b",
   "metadata": {},
   "source": [
    "**Task 8.** Если в таблицах supply  и book есть одинаковые книги, которые имеют равную цену,  вывести их название и автора, а также посчитать общее количество экземпляров книг в таблицах supply и book,  столбцы назвать Название, Автор  и Количество.\n",
    "\n",
    "**SELECT book.title AS Название,<br>\n",
    "       &emsp;&emsp;&emsp;&emsp;name_author AS Автор,<br>\n",
    "       &emsp;&emsp;&emsp;&emsp;book.amount + supply.amount AS Количество<br>\n",
    "FROM<br>\n",
    "     &emsp;&emsp;&emsp;author<br>\n",
    "     &emsp;&emsp;&emsp;INNER JOIN book USING (author_id)<br>\n",
    "     &emsp;&emsp;&emsp;INNER JOIN supply ON author.name_author = supply.author<br>\n",
    "WHERE book.title = supply.title AND<br>\n",
    "      &emsp;&emsp;&emsp;&emsp;name_author = supply.author AND<br>\n",
    "      &emsp;&emsp;&emsp;&emsp;book.price = supply.price;**"
   ]
  },
  {
   "cell_type": "markdown",
   "id": "94330e5b",
   "metadata": {},
   "source": [
    "## Section 2.3"
   ]
  },
  {
   "cell_type": "markdown",
   "id": "5d5440db",
   "metadata": {},
   "source": [
    "**Task 1.** Для книг, которые уже есть на складе (в таблице book), но по другой цене, чем в поставке (supply),  необходимо в таблице book увеличить количество на значение, указанное в поставке,  и пересчитать цену. А в таблице  supply обнулить количество этих книг.\n",
    "\n",
    "**UPDATE book<br>\n",
    "&emsp;&emsp;&emsp;&emsp;INNER JOIN supply ON supply.title = book.title<br>\n",
    "&emsp;&emsp;&emsp;&emsp;INNER JOIN author ON book.author_id = author.author_id<br>\n",
    "&emsp;&emsp;&emsp;&emsp;&emsp;&emsp;&emsp;&emsp;AND supply.author = author.name_author<br>\n",
    "SET book.amount = book.amount + supply.amount,<br>\n",
    "&emsp;&emsp;book.price = (book.price * book.amount + supply.price * supply.amount) / (book.amount + supply.amount),<br>\n",
    "&emsp;&emsp;supply.amount = 0<br>\n",
    "WHERE book.price <> supply.price;**"
   ]
  },
  {
   "cell_type": "markdown",
   "id": "77695f43",
   "metadata": {},
   "source": [
    "**Task 2.** Включить новых авторов в таблицу author с помощью запроса на добавление, а затем вывести все данные из таблицы author.  Новыми считаются авторы, которые есть в таблице supply, но нет в таблице author.\n",
    "\n",
    "**INSERT INTO author(name_author)<br>\n",
    "SELECT supply.author<br>\n",
    "FROM<br>\n",
    "&emsp;&emsp;&emsp;author<br>\n",
    "&emsp;&emsp;&emsp;RIGHT JOIN supply ON author.name_author = supply.author<br>\n",
    "WHERE author.name_author IS NULL;**"
   ]
  },
  {
   "cell_type": "markdown",
   "id": "afed4de9",
   "metadata": {},
   "source": [
    "**Task 3.** Добавить новые книги из таблицы supply в таблицу book на основе сформированного выше запроса. Затем вывести для просмотра таблицу book.\n",
    "\n",
    "**INSERT INTO book(title, author_id, price, amount)<br>\n",
    "SELECT title, author_id, price, amount<br>\n",
    "FROM<br>\n",
    "&emsp;&emsp;&emsp;author<br>\n",
    "&emsp;&emsp;&emsp;INNER JOIN supply ON author.name_author = supply.author<br>\n",
    "WHERE supply.amount <> 0;**"
   ]
  },
  {
   "cell_type": "markdown",
   "id": "7067a54e",
   "metadata": {},
   "source": [
    "**Task 4.** Занести для книги «Вірші» Франка жанр «Поезія», а для книги «Тигролови» Багряного - «Пригоди». (Использовать два запроса).\n",
    "\n",
    "**UPDATE book, genre<br>\n",
    "SET book.genre_id = (SELECT genre_id<br>\n",
    "&emsp;&emsp;&emsp;&emsp;&emsp;&emsp;&emsp;&emsp;FROM genre<br>\n",
    "&emsp;&emsp;&emsp;&emsp;&emsp;&emsp;&emsp;&emsp;WHERE name_genre = 'Поезія')<br>\n",
    "WHERE book_id = 10;**<br>\n",
    "\n",
    "**UPDATE book, genre<br>\n",
    "SET book.genre_id = (SELECT genre_id<br>\n",
    "&emsp;&emsp;&emsp;&emsp;&emsp;&emsp;&emsp;&emsp;FROM genre<br>\n",
    "&emsp;&emsp;&emsp;&emsp;&emsp;&emsp;&emsp;&emsp;WHERE name_genre = 'Пригоди')<br>\n",
    "WHERE book_id = 11;**<br>\n",
    "\n",
    "**SELECT * FROM book;**"
   ]
  },
  {
   "cell_type": "markdown",
   "id": "10e05adf",
   "metadata": {},
   "source": [
    "**Task 5.** Удалить всех авторов и все их книги, общее количество книг которых меньше 20.\n",
    "\n",
    "**DELETE FROM author<br>\n",
    "WHERE author.author_id IN (SELECT author_id<br>\n",
    "&emsp;&emsp;&emsp;&emsp;&emsp;&emsp;&emsp;&emsp;&emsp;FROM book<br>\n",
    "&emsp;&emsp;&emsp;&emsp;&emsp;&emsp;&emsp;&emsp;&emsp;GROUP BY author_id<br>\n",
    "&emsp;&emsp;&emsp;&emsp;&emsp;&emsp;&emsp;&emsp;&emsp;HAVING SUM(amount) < 20);**"
   ]
  },
  {
   "cell_type": "markdown",
   "id": "8257082a",
   "metadata": {},
   "source": [
    "**Task 6.** Удалить все жанры, к которым относится меньше 4-х книг. В таблице book для этих жанров установить значение Null.\n",
    "\n",
    "**DELETE FROM genre<br>\n",
    "WHERE genre_id IN (SELECT book.genre_id<br>\n",
    "&emsp;&emsp;&emsp;&emsp;&emsp;&emsp;&emsp;&emsp;&emsp;FROM book<br>\n",
    "&emsp;&emsp;&emsp;&emsp;&emsp;&emsp;&emsp;&emsp;&emsp;GROUP BY genre_id<br>\n",
    "&emsp;&emsp;&emsp;&emsp;&emsp;&emsp;&emsp;&emsp;&emsp;HAVING COUNT(title) < 4);**"
   ]
  },
  {
   "cell_type": "markdown",
   "id": "fa766e21",
   "metadata": {},
   "source": [
    "**Task 7.** Удалить всех авторов, которые пишут в жанре \"Поезія\". Из таблицы book удалить все книги этих авторов. В запросе для отбора авторов использовать полное название жанра, а не его id.\n",
    "\n",
    "**DELETE FROM author<br>\n",
    "USING book<br>\n",
    "&emsp;&emsp;&emsp;&emsp;INNER JOIN genre ON book.genre_id = genre.genre_id<br>\n",
    "&emsp;&emsp;&emsp;&emsp;INNER JOIN author ON book.author_id = author.author_id<br>\n",
    "WHERE name_genre = 'Поезія';**"
   ]
  },
  {
   "cell_type": "markdown",
   "id": "f5543bcd",
   "metadata": {},
   "source": [
    "## Section 2.4"
   ]
  },
  {
   "cell_type": "markdown",
   "id": "6affa480",
   "metadata": {},
   "source": [
    "**Task 1.** Вывести все заказы Баранова Павла (id заказа, какие книги, по какой цене и в каком количестве он заказал) в отсортированном по номеру заказа и названиям книг виде.\n",
    "\n",
    "**SELECT buy_book.buy_id, title, price, buy_book.amount<br>\n",
    "FROM<br>\n",
    "&emsp;&emsp;&emsp;client<br>\n",
    "&emsp;&emsp;&emsp;INNER JOIN buy ON client.client_id = buy.client_id<br>\n",
    "&emsp;&emsp;&emsp;INNER JOIN buy_book ON buy_book.buy_id = buy.buy_id<br>\n",
    "&emsp;&emsp;&emsp;INNER JOIN book ON book.book_id = buy_book.book_id<br>\n",
    "WHERE name_client = 'Баранов Павел'<br>\n",
    "ORDER BY buy_book.buy_id, title;**"
   ]
  },
  {
   "cell_type": "markdown",
   "id": "dee36ea3",
   "metadata": {},
   "source": [
    "**Task 2.** Посчитать, сколько раз была заказана каждая книга, для книги вывести ее автора (нужно посчитать, в каком количестве заказов фигурирует каждая книга).  Вывести фамилию и инициалы автора, название книги, последний столбец назвать Количество. Результат отсортировать сначала  по фамилиям авторов, а потом по названиям книг.\n",
    "\n",
    "**SELECT name_author, title, COUNT(buy_book.book_id) AS Количество<br>\n",
    "FROM<br>\n",
    "&emsp;&emsp;&emsp;author<br>\n",
    "&emsp;&emsp;&emsp;INNER JOIN book ON author.author_id = book.author_id<br>\n",
    "&emsp;&emsp;&emsp;LEFT JOIN buy_book ON book.book_id = buy_book.book_id<br>\n",
    "GROUP BY title, name_author<br>\n",
    "ORDER BY name_author, title;**"
   ]
  },
  {
   "cell_type": "markdown",
   "id": "a0cbcbee",
   "metadata": {},
   "source": [
    "**Task 3.** Вывести города, в которых живут клиенты, оформлявшие заказы в интернет-магазине. Указать количество заказов в каждый город, этот столбец назвать Количество. Информацию вывести по убыванию количества заказов, а затем в алфавитном порядке по названию городов.\n",
    "\n",
    "**SELECT name_city, COUNT(buy.client_id) AS Количество<br>\n",
    "FROM<br>\n",
    "&emsp;&emsp;&emsp;city<br>\n",
    "&emsp;&emsp;&emsp;INNER JOIN client ON city.city_id = client.city_id<br>\n",
    "&emsp;&emsp;&emsp;INNER JOIN buy ON client.client_id = buy.client_id<br>\n",
    "GROUP BY name_city<br>\n",
    "ORDER BY Количество DESC, name_city;**"
   ]
  },
  {
   "cell_type": "markdown",
   "id": "94ec6622",
   "metadata": {},
   "source": [
    "**Task 4.** Вывести номера всех оплаченных заказов и даты, когда они были оплачены.\n",
    "\n",
    "**SELECT buy_id, date_step_end<br>\n",
    "FROM<br>\n",
    "&emsp;&emsp;&emsp;step<br>\n",
    "&emsp;&emsp;&emsp;INNER JOIN buy_step ON step.step_id = buy_step.step_id<br>\n",
    "WHERE buy_step.step_id = 1 AND date_step_end IS NOT NULL;**"
   ]
  },
  {
   "cell_type": "markdown",
   "id": "e0a93411",
   "metadata": {},
   "source": [
    "**Task 5.** Вывести информацию о каждом заказе: его номер, кто его сформировал (фамилия пользователя) и его стоимость (сумма произведений количества заказанных книг и их цены), в отсортированном по номеру заказа виде. Последний столбец назвать Стоимость.\n",
    "\n",
    "**SELECT buy_book.buy_id, name_client, SUM(buy_book.amount * price) AS Стоимость<br>\n",
    "FROM<br>\n",
    "&emsp;&emsp;&emsp;book<br>\n",
    "&emsp;&emsp;&emsp;INNER JOIN buy_book ON book.book_id = buy_book.book_id<br>\n",
    "&emsp;&emsp;&emsp;INNER JOIN buy ON buy_book.buy_id = buy.buy_id<br>\n",
    "&emsp;&emsp;&emsp;INNER JOIN client ON client.client_id = buy.client_id<br>\n",
    "GROUP BY buy_book.buy_id, client.name_client<br>\n",
    "ORDER BY buy_book.buy_id;**"
   ]
  },
  {
   "cell_type": "markdown",
   "id": "60e76f9e",
   "metadata": {},
   "source": [
    "**Task 6.** Вывести номера заказов (buy_id) и названия этапов,  на которых они в данный момент находятся. Если заказ доставлен –  информацию о нем не выводить. Информацию отсортировать по возрастанию buy_id.\n",
    "\n",
    "**SELECT buy_id, name_step<br>\n",
    "FROM<br>\n",
    "&emsp;&emsp;&emsp;step<br>\n",
    "&emsp;&emsp;&emsp;INNER JOIN buy_step ON step.step_id = buy_step.step_id<br>\n",
    "WHERE date_step_beg IS NOT NULL AND<br>\n",
    "&emsp;&emsp;&emsp;date_step_end IS NULL<br>\n",
    "ORDER BY buy_id;**"
   ]
  },
  {
   "cell_type": "markdown",
   "id": "4d1a918a",
   "metadata": {},
   "source": [
    "**Task 7.** В таблице city для каждого города указано количество дней, за которые заказ может быть доставлен в этот город (рассматривается только этап Транспортировка). Для тех заказов, которые прошли этап транспортировки, вывести количество дней за которое заказ реально доставлен в город. А также, если заказ доставлен с опозданием, указать количество дней задержки, в противном случае вывести 0. В результат включить номер заказа (buy_id), а также вычисляемые столбцы Количество_дней и Опоздание. Информацию вывести в отсортированном по номеру заказа виде.\n",
    "\n",
    "**SELECT buy.buy_id,<br>\n",
    "&emsp;&emsp;DATEDIFF(date_step_end, date_step_beg) AS Количество_дней,<br>\n",
    "&emsp;&emsp;IF(DATEDIFF(date_step_end, date_step_beg) < days_delivery, 0,<br>\n",
    "&emsp;&emsp;&emsp;&emsp;ABS(DATEDIFF(date_step_end, date_step_beg) - days_delivery)) AS Опоздание**<br>\n",
    "\n",
    "**FROM<br>\n",
    "&emsp;&emsp;city<br>\n",
    "&emsp;&emsp;INNER JOIN client ON city.city_id = client.city_id<br>\n",
    "&emsp;&emsp;INNER JOIN buy ON client.client_id = buy.client_id<br>\n",
    "&emsp;&emsp;INNER JOIN buy_step ON buy.buy_id = buy_step.buy_id<br>\n",
    "&emsp;&emsp;INNER JOIN step ON buy_step.step_id = step.step_id**<br>\n",
    "    \n",
    "**WHERE date_step_beg IS NOT NULL AND<br>\n",
    "&emsp;&emsp;&emsp;date_step_end IS NOT NULL AND<br>\n",
    "&emsp;&emsp;&emsp;name_step = 'Транспортировка'**<br>\n",
    "\n",
    "**ORDER BY buy.buy_id;**"
   ]
  },
  {
   "cell_type": "markdown",
   "id": "3be7e04e",
   "metadata": {},
   "source": [
    "**Task 8.** Выбрать всех клиентов, которые заказывали книги Шевченко, информацию вывести в отсортированном по алфавиту виде. В решении используйте фамилию автора, а не его id.\n",
    "\n",
    "**SELECT name_client<br>\n",
    "FROM<br>\n",
    "&emsp;&emsp;&emsp;author<br>\n",
    "&emsp;&emsp;&emsp;INNER JOIN book ON author.author_id = book.author_id<br>\n",
    "&emsp;&emsp;&emsp;INNER JOIN buy_book ON buy_book.book_id = book.book_id<br>\n",
    "&emsp;&emsp;&emsp;INNER JOIN buy ON buy.buy_id = buy_book.buy_id<br>\n",
    "&emsp;&emsp;&emsp;INNER JOIN client ON buy.client_id = client.client_id<br>\n",
    "WHERE name_author = 'Шевченко Т.Г.'<br>\n",
    "GROUP BY name_client<br>\n",
    "ORDER BY name_client;**"
   ]
  },
  {
   "cell_type": "markdown",
   "id": "fc93936f",
   "metadata": {},
   "source": [
    "**Task 9.** Вывести жанр (или жанры), в котором было заказано больше всего экземпляров книг, указать это количество. Последний столбец назвать Количество.\n",
    "\n",
    "**SELECT name_genre, SUM(buy_book.amount) AS Количество<br>\n",
    "FROM<br>\n",
    "&emsp;&emsp;&emsp;genre<br>\n",
    "&emsp;&emsp;&emsp;INNER JOIN book ON genre.genre_id = book.genre_id<br>\n",
    "&emsp;&emsp;&emsp;INNER JOIN buy_book ON buy_book.book_id = book.book_id<br>\n",
    "GROUP BY name_genre<br>\n",
    "HAVING SUM(buy_book.amount) = (SELECT SUM(buy_book.amount)<br>\n",
    "&emsp;&emsp;&emsp;&emsp;&emsp;&emsp;FROM<br>\n",
    "&emsp;&emsp;&emsp;&emsp;&emsp;&emsp;&emsp;&emsp;&emsp;genre<br>\n",
    "&emsp;&emsp;&emsp;&emsp;&emsp;&emsp;&emsp;&emsp;&emsp;INNER JOIN book ON genre.genre_id = book.genre_id<br>\n",
    "&emsp;&emsp;&emsp;&emsp;&emsp;&emsp;&emsp;&emsp;&emsp;INNER JOIN buy_book ON buy_book.book_id = book.book_id<br>\n",
    "&emsp;&emsp;&emsp;&emsp;&emsp;&emsp;GROUP BY name_genre<br>\n",
    "&emsp;&emsp;&emsp;&emsp;&emsp;&emsp;LIMIT 1);**"
   ]
  },
  {
   "cell_type": "markdown",
   "id": "783cf09f",
   "metadata": {},
   "source": [
    "**Task 10.** Сравнить ежемесячную выручку от продажи книг за текущий и предыдущий годы. Для этого вывести год, месяц, сумму выручки в отсортированном сначала по возрастанию месяцев, затем по возрастанию лет виде. Название столбцов: Год, Месяц, Сумма.\n",
    "\n",
    "**SELECT YEAR(date_payment) AS Год,<br>\n",
    "&emsp;&emsp;&emsp;MONTHNAME(date_payment) AS Месяц,<br>\n",
    "&emsp;&emsp;&emsp;SUM(price * amount) AS Сумма<br>\n",
    "FROM<br>\n",
    "&emsp;&emsp;buy_archive<br>\n",
    "GROUP BY YEAR(date_payment), MONTHNAME(date_payment)<br>\n",
    "UNION<br>\n",
    "SELECT YEAR(date_step_end) AS Год,<br>\n",
    "&emsp;&emsp;&emsp;MONTHNAME(date_step_end) AS Месяц,<br>\n",
    "&emsp;&emsp;&emsp;SUM(buy_book.amount * book.price) AS Сумма<br>\n",
    "FROM<br> \n",
    "&emsp;&emsp;book<br> \n",
    "&emsp;&emsp;INNER JOIN buy_book USING(book_id)<br>\n",
    "&emsp;&emsp;INNER JOIN buy USING(buy_id)<br> \n",
    "&emsp;&emsp;INNER JOIN buy_step USING(buy_id)<br>\n",
    "&emsp;&emsp;INNER JOIN step USING(step_id)<br>\n",
    "WHERE date_step_end IS NOT Null and name_step = \"Оплата\"<br>\n",
    "GROUP BY YEAR(date_step_end), MONTHNAME(date_step_end)<br>\n",
    "ORDER BY Месяц, Год;**"
   ]
  },
  {
   "cell_type": "markdown",
   "id": "1433a6f4",
   "metadata": {},
   "source": [
    "**Task 11.** Для каждой отдельной книги необходимо вывести информацию о количестве проданных экземпляров и их стоимости за 2020 и 2019 год . Вычисляемые столбцы назвать Количество и Сумма. Информацию отсортировать по убыванию стоимости.\n",
    "\n",
    "**SELECT title, SUM(Количество) AS Количество, SUM(Сумма) AS Сумма<br>\n",
    "FROM    (SELECT title,<br>\n",
    "&emsp;&emsp;&emsp;&emsp;&emsp;&emsp;SUM(buy_archive.amount) AS Количество,<br>\n",
    "&emsp;&emsp;&emsp;&emsp;&emsp;&emsp;SUM(buy_archive.price * buy_archive.amount) AS Сумма<br>\n",
    "&emsp;&emsp;&emsp;&emsp;FROM<br> \n",
    "&emsp;&emsp;&emsp;&emsp;&emsp;&emsp;buy_archive<br>\n",
    "&emsp;&emsp;&emsp;&emsp;&emsp;&emsp;INNER JOIN book USING(book_id)<br>\n",
    "&emsp;&emsp;&emsp;&emsp;GROUP BY title<br>\n",
    "&emsp;&emsp;&emsp;&emsp;UNION ALL<br>\n",
    "&emsp;&emsp;&emsp;&emsp;SELECT title,<br>\n",
    "&emsp;&emsp;&emsp;&emsp;&emsp;&emsp;SUM(buy_book.amount) AS Количество,<br>\n",
    "&emsp;&emsp;&emsp;&emsp;&emsp;&emsp;SUM(buy_book.amount * book.price) AS Сумма<br>\n",
    "&emsp;&emsp;&emsp;&emsp;FROM<br> \n",
    "&emsp;&emsp;&emsp;&emsp;&emsp;&emsp;book<br> \n",
    "&emsp;&emsp;&emsp;&emsp;&emsp;&emsp;INNER JOIN buy_book USING(book_id)<br> \n",
    "&emsp;&emsp;&emsp;&emsp;&emsp;&emsp;INNER JOIN buy USING(buy_id)<br> \n",
    "&emsp;&emsp;&emsp;&emsp;&emsp;&emsp;INNER JOIN buy_step USING(buy_id)<br>\n",
    "&emsp;&emsp;&emsp;&emsp;&emsp;&emsp;INNER JOIN step USING(step_id)<br>\n",
    "&emsp;&emsp;&emsp;&emsp;WHERE date_step_end IS NOT Null and name_step = \"Оплата\"<br>\n",
    "&emsp;&emsp;&emsp;&emsp;GROUP BY title) table_all<br>\n",
    "GROUP BY title<br>\n",
    "ORDER BY Сумма DESC;**"
   ]
  },
  {
   "cell_type": "markdown",
   "id": "e9f80b03",
   "metadata": {},
   "source": [
    "## Section 2.5"
   ]
  },
  {
   "cell_type": "markdown",
   "id": "3033173c",
   "metadata": {},
   "source": [
    "**Task 1.** Включить нового человека в таблицу с клиентами. Его имя Попов Илья, его email popov@test, проживает он в Киеве.\n",
    "\n",
    "**INSERT INTO client(name_client, city_id, email)<br>\n",
    "SELECT 'Попов Илья', city_id, 'popov@test'<br>\n",
    "FROM city<br>\n",
    "WHERE name_city = 'Киев';**"
   ]
  },
  {
   "cell_type": "markdown",
   "id": "60c3a0e2",
   "metadata": {},
   "source": [
    "**Task 2.** Создать новый заказ для Попова Ильи. Его комментарий для заказа: «Связаться со мной по вопросу доставки».\n",
    "\n",
    "**INSERT INTO buy(buy_description, client_id)<br>\n",
    "SELECT 'Связаться со мной по вопросу доставки', client_id<br>\n",
    "FROM client<br>\n",
    "WHERE name_client = 'Попов Илья';**<br>\n",
    "\n",
    "**SELECT * FROM buy;**"
   ]
  },
  {
   "cell_type": "markdown",
   "id": "d5664505",
   "metadata": {},
   "source": [
    "**Task 3.** В таблицу buy_book добавить заказ с номером 5. Этот заказ должен содержать книгу Франка «Лірика» в количестве двух экземпляров и книгу Багряний «Тигролови» в одном экземпляре.\n",
    "\n",
    "**INSERT INTO buy_book(buy_id, book_id, amount)<br>\n",
    "SELECT 5, book_id, 2<br>\n",
    "FROM author INNER JOIN book USING(author_id)<br>\n",
    "WHERE title = 'Лірика' AND name_author = 'Франко І.Я.';**<br>\n",
    "\n",
    "**INSERT INTO buy_book(buy_id, book_id, amount)<br>\n",
    "SELECT 5, book_id, 1<br>\n",
    "FROM author INNER JOIN book USING(author_id)<br>\n",
    "WHERE title = 'Тигролови' AND name_author = 'Багряний І.П.';**<br>\n",
    "\n",
    "**SELECT * FROM buy_book;**"
   ]
  },
  {
   "cell_type": "markdown",
   "id": "35d20fbc",
   "metadata": {},
   "source": [
    "**Task 4.** Количество тех книг на складе, которые были включены в заказ с номером 5, уменьшить на то количество, которое в заказе с номером 5  указано.\n",
    "\n",
    "**UPDATE book JOIN buy_book USING(book_id)<br>\n",
    "SET book.amount = book.amount - buy_book.amount<br>\n",
    "WHERE buy_book.buy_id = 5;**<br>\n",
    "\n",
    "**SELECT * FROM book;**"
   ]
  },
  {
   "cell_type": "markdown",
   "id": "478e0b46",
   "metadata": {},
   "source": [
    "**Task 5.** Создать счет (таблицу buy_pay) на оплату заказа с номером 5, в который включить название книг, их автора, цену, количество заказанных книг и  стоимость. Последний столбец назвать Стоимость. Информацию в таблицу занести в отсортированном по названиям книг виде.\n",
    "\n",
    "**CREATE TABLE buy_pay AS<br>\n",
    "SELECT title, name_author, price, buy_book.amount,<br>\n",
    "&emsp;&emsp;&emsp;&emsp;(buy_book.amount * price) AS Стоимость<br>\n",
    "FROM<br>\n",
    "&emsp;&emsp;author<br>\n",
    "&emsp;&emsp;INNER JOIN book USING(author_id)<br>\n",
    "&emsp;&emsp;INNER JOIN buy_book USING(book_id)<br>\n",
    "WHERE buy_id = 5<br>\n",
    "ORDER BY title;**"
   ]
  },
  {
   "cell_type": "markdown",
   "id": "b3d76d21",
   "metadata": {},
   "source": [
    "**Task 6.** Создать общий счет (таблицу buy_pay) на оплату заказа с номером 5. Куда включить номер заказа, количество книг в заказе (название столбца Количество) и его общую стоимость (название столбца Итого). Для решения используйте ОДИН запрос.\n",
    "\n",
    "**CREATE TABLE buy_pay AS<br>\n",
    "SELECT buy_id, SUM(buy_book.amount) AS Количество,<br>\n",
    "&emsp;&emsp;&emsp;&emsp;SUM(buy_book.amount * price) AS Итого<br>\n",
    "FROM<br>\n",
    "&emsp;&emsp;book<br>\n",
    "&emsp;&emsp;INNER JOIN buy_book USING(book_id)<br>\n",
    "WHERE buy_id = 5;**<br>\n",
    "\n",
    "**SELECT * FROM buy_pay;**"
   ]
  },
  {
   "cell_type": "markdown",
   "id": "e3e1d3a4",
   "metadata": {},
   "source": [
    "**Task 7.** В таблицу buy_step для заказа с номером 5 включить все этапы из таблицы step, которые должен пройти этот заказ. В столбцы date_step_beg и date_step_end всех записей занести Null.\n",
    "\n",
    "**INSERT INTO buy_step(buy_id, step_id, date_step_beg, date_step_end)**<br>\n",
    "\n",
    "**SELECT client_id, step_id, NULL AS date_step_beg, NULL AS date_step_end<br>\n",
    "FROM<br>\n",
    "&emsp;&emsp;buy<br>\n",
    "&emsp;&emsp;CROSS JOIN step<br>\n",
    "WHERE buy_id = 5;**"
   ]
  },
  {
   "cell_type": "markdown",
   "id": "dddb9f10",
   "metadata": {},
   "source": [
    "**Task 8.** В таблицу buy_step занести дату 12.04.2020 выставления счета на оплату заказа с номером 5.\n",
    "\n",
    "**UPDATE buy_step\n",
    "SET date_step_beg = '2020-04-12'**\n",
    "\n",
    "**WHERE buy_id = 5 AND step_id = 1;**"
   ]
  },
  {
   "cell_type": "markdown",
   "id": "d512ffa6",
   "metadata": {},
   "source": [
    "**Task 9.** Завершить этап «Оплата» для заказа с номером 5, вставив в столбец date_step_end дату 13.04.2020, и начать следующий этап («Упаковка»), задав в столбце date_step_beg для этого этапа ту же дату.\n",
    "\n",
    "Реализовать два запроса для завершения этапа и начале следующего. Они должны быть записаны в общем виде, чтобы его можно было применять для любых этапов, изменив только текущий этап. Для примера пусть это будет этап «Оплата».\n",
    "\n",
    "**UPDATE buy_step<br>\n",
    "SET date_step_end = IF(date_step_beg IS NOT NULL AND date_step_end IS NULL, '2020-04-13', date_step_end),<br>\n",
    "&emsp;&emsp;date_step_beg = IF(step_id=2, '2020-04-13', date_step_beg)<br>\n",
    "WHERE buy_id = 5;**<br>\n",
    "\n",
    "**SELECT \\*<br>\n",
    "FROM buy_step<br>\n",
    "WHERE buy_id = 5;**"
   ]
  },
  {
   "cell_type": "markdown",
   "id": "1e0c83ca",
   "metadata": {},
   "source": [
    "# Section 3. Data bases"
   ]
  },
  {
   "cell_type": "markdown",
   "id": "5f88400f",
   "metadata": {},
   "source": [
    "## Section 3.1"
   ]
  },
  {
   "cell_type": "markdown",
   "id": "36898230",
   "metadata": {},
   "source": [
    "**Task 1.** Вывести студентов, которые сдавали дисциплину «Основы баз данных», указать дату попытки и результат. Информацию вывести по убыванию результатов тестирования.\n",
    "\n",
    "**SELECT name_student, date_attempt, result<br>\n",
    "FROM<br>\n",
    "&emsp;&emsp;&emsp;subject<br>\n",
    "&emsp;&emsp;&emsp;INNER JOIN attempt USING(subject_id)<br>\n",
    "&emsp;&emsp;&emsp;INNER JOIN student USING(student_id)<br>\n",
    "WHERE name_subject = 'Основы баз данных'<br>\n",
    "ORDER BY result DESC;**"
   ]
  },
  {
   "cell_type": "markdown",
   "id": "5442a688",
   "metadata": {},
   "source": [
    "**Task 2.** Вывести, сколько попыток сделали студенты по каждой дисциплине, а также средний результат попыток, который округлить до 2 знаков после запятой. Под результатом попытки понимается процент правильных ответов на вопросы теста, который занесен в столбец result.  В результат включить название дисциплины, а также вычисляемые столбцы Количество и Среднее. Информацию вывести по убыванию средних результатов.\n",
    "\n",
    "**SELECT name_subject,<br>\n",
    "&emsp;&emsp;&emsp;&emsp;COUNT(date_attempt) AS Количество,<br>\n",
    "&emsp;&emsp;&emsp;&emsp;ROUND(AVG(result), 2) AS Среднее<br>\n",
    "FROM<br>\n",
    "&emsp;&emsp;&emsp;subject<br>\n",
    "&emsp;&emsp;&emsp;LEFT JOIN attempt ON subject.subject_id = attempt.subject_id<br>\n",
    "GROUP BY name_subject<br>\n",
    "ORDER BY Среднее DESC;**"
   ]
  },
  {
   "cell_type": "markdown",
   "id": "2fff198f",
   "metadata": {},
   "source": [
    "**Task 3.** Вывести студентов (различных студентов), имеющих максимальные результаты попыток . Информацию отсортировать в алфавитном порядке по фамилии студента.\n",
    "\n",
    "**SELECT name_student, result<br>\n",
    "FROM<br>\n",
    "&emsp;&emsp;&emsp;student<br>\n",
    "&emsp;&emsp;&emsp;LEFT JOIN attempt ON student.student_id = attempt.student_id<br>\n",
    "WHERE result = (SELECT MAX(result)<br>\n",
    "&emsp;&emsp;&emsp;&emsp;&emsp;&emsp;&emsp;&emsp;FROM attempt)<br>\n",
    "ORDER BY name_student;**"
   ]
  },
  {
   "cell_type": "markdown",
   "id": "29c11da7",
   "metadata": {},
   "source": [
    "**Task 4.** Если студент совершал несколько попыток по одной и той же дисциплине, то вывести разницу в днях между первой и последней попыткой. В результат включить фамилию и имя студента, название дисциплины и вычисляемый столбец Интервал. Информацию вывести по возрастанию разницы. Студентов, сделавших одну попытку по дисциплине, не учитывать.\n",
    "\n",
    "**SELECT name_student, name_subject, DATEDIFF(MAX(date_attempt), MIN(date_attempt)) AS Интервал<br>\n",
    "FROM<br>\n",
    "&emsp;&emsp;&emsp;subject<br>\n",
    "&emsp;&emsp;&emsp;INNER JOIN attempt USING(subject_id)<br>\n",
    "&emsp;&emsp;&emsp;INNER JOIN student USING(student_id)<br>\n",
    "GROUP BY name_student, name_subject<br>\n",
    "HAVING COUNT(date_attempt) > 1<br>\n",
    "ORDER BY Интервал;**"
   ]
  },
  {
   "cell_type": "markdown",
   "id": "ce4d942a",
   "metadata": {},
   "source": [
    "**Task 5.** Студенты могут тестироваться по одной или нескольким дисциплинам (не обязательно по всем). Вывести дисциплину и количество уникальных студентов (столбец назвать Количество), которые по ней проходили тестирование . Информацию отсортировать сначала по убыванию количества, а потом по названию дисциплины. В результат включить и дисциплины, тестирование по которым студенты не проходили, в этом случае указать количество студентов 0.\n",
    "\n",
    "**SELECT name_subject,<br>\n",
    "&emsp;&emsp;&emsp;&emsp;COUNT(DISTINCT(student_id)) AS Количество<br>\n",
    "FROM<br>\n",
    "&emsp;&emsp;&emsp;subject<br>\n",
    "&emsp;&emsp;&emsp;LEFT JOIN attempt USING(subject_id)<br>\n",
    "GROUP BY name_subject<br>\n",
    "ORDER BY Количество DESC, name_subject;**"
   ]
  },
  {
   "cell_type": "markdown",
   "id": "f8db57bc",
   "metadata": {},
   "source": [
    "**Task 6.** Случайным образом отберите 3 вопроса по дисциплине «Основы баз данных». В результат включите столбцы question_id и name_question.\n",
    "\n",
    "**SELECT question_id, name_question<br>\n",
    "FROM<br>\n",
    "&emsp;&emsp;&emsp;subject<br>\n",
    "&emsp;&emsp;&emsp;INNER JOIN question USING(subject_id)<br>\n",
    "WHERE name_subject = 'Основы баз данных'<br>\n",
    "ORDER BY RAND()<br>\n",
    "LIMIT 3;**"
   ]
  },
  {
   "cell_type": "markdown",
   "id": "cf229b06",
   "metadata": {},
   "source": [
    "**Task 7.** Вывести вопросы, которые были включены в тест для Семенова Ивана по дисциплине «Основы SQL» 2020-05-17  (значение attempt_id для этой попытки равно 7). Указать, какой ответ дал студент и правильный он или нет(вывести Верно или Неверно). В результат включить вопрос, ответ и вычисляемый столбец  Результат.\n",
    "\n",
    "**SELECT name_question, name_answer,<br>\n",
    "&emsp;&emsp;&emsp;&emsp;IF(is_correct = 0, 'Неверно', 'Верно') AS Результат<br>\n",
    "FROM<br>\n",
    "&emsp;&emsp;&emsp;answer<br>\n",
    "&emsp;&emsp;&emsp;INNER JOIN testing ON answer.answer_id = testing.answer_id<br>\n",
    "&emsp;&emsp;&emsp;INNER JOIN question ON question.question_id = testing.question_id<br>\n",
    "WHERE attempt_id = 7;**"
   ]
  },
  {
   "cell_type": "markdown",
   "id": "a6e86dc8",
   "metadata": {},
   "source": [
    "**Task 8.** Посчитать результаты тестирования. Результат попытки вычислить как количество правильных ответов, деленное на 3 (количество вопросов в каждой попытке) и умноженное на 100. Результат округлить до двух знаков после запятой. Вывести фамилию студента, название предмета, дату и результат. Последний столбец назвать Результат. Информацию отсортировать сначала по фамилии студента, потом по убыванию даты попытки.\n",
    "\n",
    "**SELECT name_student, name_subject, date_attempt, ROUND(SUM(is_correct/3\\*100), 2) AS Результат<br>\n",
    "FROM<br>\n",
    "&emsp;&emsp;&emsp;answer<br>\n",
    "&emsp;&emsp;&emsp;JOIN testing USING(answer_id)<br>\n",
    "&emsp;&emsp;&emsp;JOIN attempt USING(attempt_id)<br>\n",
    "&emsp;&emsp;&emsp;JOIN subject USING(subject_id)<br>\n",
    "&emsp;&emsp;&emsp;JOIN student USING(student_id)<br>\n",
    "GROUP BY name_student, name_subject, date_attempt<br>\n",
    "ORDER BY name_student, date_attempt DESC;**"
   ]
  },
  {
   "cell_type": "markdown",
   "id": "8b3e6193",
   "metadata": {},
   "source": [
    "**Task 9.** Для каждого вопроса вывести процент успешных решений, то есть отношение количества верных ответов к общему количеству ответов, значение округлить до 2-х знаков после запятой. Также вывести название предмета, к которому относится вопрос, и общее количество ответов на этот вопрос. В результат включить название дисциплины, вопросы по ней (столбец назвать Вопрос), а также два вычисляемых столбца Всего_ответов и Успешность. Информацию отсортировать сначала по названию дисциплины, потом по убыванию успешности, а потом по тексту вопроса в алфавитном порядке.\n",
    "\n",
    "Поскольку тексты вопросов могут быть длинными, обрезать их 30 символов и добавить многоточие \"...\".\n",
    "\n",
    "**SELECT name_subject, CONCAT(LEFT(name_question, 30), '...') AS Вопрос,<br>\n",
    "&emsp;&emsp;&emsp;&emsp;COUNT(is_correct) AS Всего_ответов,<br>\n",
    "&emsp;&emsp;&emsp;&emsp;ROUND((SUM(is_correct) / COUNT(is_correct)) * 100, 2) AS Успешность<br>\n",
    "FROM<br>\n",
    "&emsp;&emsp;&emsp;subject<br>\n",
    "&emsp;&emsp;&emsp;INNER JOIN question ON subject.subject_id = question.subject_id<br>\n",
    "&emsp;&emsp;&emsp;INNER JOIN testing ON testing.question_id = question.question_id<br>\n",
    "&emsp;&emsp;&emsp;LEFT JOIN answer ON answer.answer_id = testing.answer_id<br>\n",
    "GROUP BY name_subject, name_question<br>\n",
    "ORDER BY name_subject, Успешность DESC, Вопрос;**"
   ]
  },
  {
   "cell_type": "markdown",
   "id": "d6dc76cb",
   "metadata": {},
   "source": [
    "## Section 3.2"
   ]
  },
  {
   "cell_type": "markdown",
   "id": "dfe391c4",
   "metadata": {},
   "source": [
    "**Task 1.** В таблицу attempt включить новую попытку для студента Баранова Павла по дисциплине «Основы баз данных». Установить текущую дату в качестве даты выполнения попытки.\n",
    "\n",
    "**INSERT INTO attempt(student_id, subject_id, date_attempt, result)<br>\n",
    "SELECT<br>\n",
    "&emsp;&emsp;&emsp;&emsp;(SELECT student_id FROM student WHERE name_student = 'Баранов Павел'),<br>\n",
    "&emsp;&emsp;&emsp;&emsp;(SELECT subject_id FROM subject WHERE name_subject = 'Основы баз данных'),<br>\n",
    "&emsp;&emsp;&emsp;&emsp;NOW(),<br>\n",
    "&emsp;&emsp;&emsp;&emsp;NULL;**<br>\n",
    "\n",
    "**SELECT * FROM attempt;**"
   ]
  },
  {
   "cell_type": "markdown",
   "id": "e71ad2a8",
   "metadata": {},
   "source": [
    "**Task 2.** Случайным образом выбрать три вопроса (запрос) по дисциплине, тестирование по которой собирается проходить студент, занесенный в таблицу attempt последним, и добавить их в таблицу testing.id последней попытки получить как максимальное значение id из таблицы attempt.\n",
    "\n",
    "**INSERT INTO testing(attempt_id, question_id)<br>\n",
    "SELECT attempt_id, question_id<br>\n",
    "FROM<br>\n",
    "&emsp;&emsp;&emsp;attempt<br>\n",
    "&emsp;&emsp;&emsp;INNER JOIN question ON attempt.subject_id = question.subject_id<br>\n",
    "WHERE attempt_id = (SELECT MAX(attempt_id)<br>\n",
    "&emsp;&emsp;&emsp;&emsp;&emsp;&emsp;&emsp;&emsp;&emsp;&emsp;FROM attempt)<br>\n",
    "ORDER BY RAND()<br>\n",
    "LIMIT 3;**"
   ]
  },
  {
   "cell_type": "markdown",
   "id": "b8b56b27",
   "metadata": {},
   "source": [
    "**Task 3.** Студент прошел тестирование (то есть все его ответы занесены в таблицу testing), далее необходимо вычислить результат(запрос) и занести его в таблицу attempt для соответствующей попытки.  Результат попытки вычислить как количество правильных ответов, деленное на 3 (количество вопросов в каждой попытке) и умноженное на 100. Результат округлить до целого.\n",
    "Будем считать, что мы знаем id попытки,  для которой вычисляется результат, в нашем случае это 8.\n",
    "\n",
    "**UPDATE attempt<br>\n",
    "SET result = (SELECT ROUND(SUM(is_correct/3\\*100), 2)<br>\n",
    "&emsp;&emsp;&emsp;&emsp;&emsp;&emsp;FROM answer<br>\n",
    "&emsp;&emsp;&emsp;&emsp;&emsp;&emsp;INNER JOIN testing ON answer.answer_id = testing.answer_id<br>\n",
    "&emsp;&emsp;&emsp;&emsp;&emsp;&emsp;WHERE attempt_id = 8)<br>\n",
    "WHERE attempt_id = 8;**<br>\n",
    "\n",
    "**SELECT * FROM attempt;**"
   ]
  },
  {
   "cell_type": "markdown",
   "id": "4f38a653",
   "metadata": {},
   "source": [
    "**Task 4.** Удалить из таблицы attempt все попытки, выполненные раньше 1 мая 2020 года. Также удалить и все соответствующие этим попыткам вопросы из таблицы testing.\n",
    "\n",
    "**DELETE FROM attempt<br>\n",
    "WHERE date_attempt < '2020-05-01';**<br>\n",
    "\n",
    "**SELECT * FROM attempt;**"
   ]
  },
  {
   "cell_type": "markdown",
   "id": "44ab9135",
   "metadata": {},
   "source": [
    "## Section 3.3"
   ]
  },
  {
   "cell_type": "markdown",
   "id": "d7f66997",
   "metadata": {},
   "source": [
    "**Task 1.** Вывести абитуриентов, которые хотят поступать на образовательную программу «Мехатроника и робототехника» в отсортированном по фамилиям виде.\n",
    "\n",
    "**SELECT name_enrollee<br>\n",
    "FROM enrollee<br>\n",
    "&emsp;&emsp;&emsp;&emsp;JOIN program_enrollee ON enrollee.enrollee_id = program_enrollee.enrollee_id<br>\n",
    "&emsp;&emsp;&emsp;&emsp;JOIN program ON program.program_id = program_enrollee.program_id<br>\n",
    "WHERE name_program LIKE 'Мехатроника и робототехника'<br>\n",
    "ORDER BY name_enrollee**"
   ]
  },
  {
   "cell_type": "markdown",
   "id": "a6ab6bb2",
   "metadata": {},
   "source": [
    "**Task 2.** Вывести образовательные программы, на которые для поступления необходим предмет «Информатика». Программы отсортировать в обратном алфавитном порядке.\n",
    "\n",
    "**SELECT name_program<br>\n",
    "FROM<br>\n",
    "&emsp;&emsp;&emsp;subject<br>\n",
    "&emsp;&emsp;&emsp;INNER JOIN program_subject ON subject.subject_id = program_subject.subject_id<br>\n",
    "&emsp;&emsp;&emsp;INNER JOIN program ON program.program_id = program_subject.program_id<br>\n",
    "WHERE name_subject = 'Информатика'<br>\n",
    "ORDER BY name_program DESC;**"
   ]
  },
  {
   "cell_type": "markdown",
   "id": "912f4d2a",
   "metadata": {},
   "source": [
    "**Task 3.** Выведите количество абитуриентов, сдавших ЗНО по каждому предмету, максимальное, минимальное и среднее значение баллов по предмету ЗНО. Вычисляемые столбцы назвать Количество, Максимум, Минимум, Среднее. Информацию отсортировать по названию предмета в алфавитном порядке, среднее значение округлить до одного знака после запятой.\n",
    "\n",
    "**SELECT name_subject,<br>\n",
    "&emsp;&emsp;&emsp;&emsp;COUNT(name_subject) AS Количество,<br>\n",
    "&emsp;&emsp;&emsp;&emsp;MAX(result) AS Максимум,<br>\n",
    "&emsp;&emsp;&emsp;&emsp;MIN(result) AS Минимум,<br>\n",
    "&emsp;&emsp;&emsp;&emsp;ROUND(AVG(result), 1) AS Среднее<br>\n",
    "FROM<br>\n",
    "&emsp;&emsp;subject<br>\n",
    "&emsp;&emsp;INNER JOIN enrollee_subject ON subject.subject_id = enrollee_subject.subject_id<br>\n",
    "GROUP BY name_subject<br>\n",
    "ORDER BY name_subject;**"
   ]
  },
  {
   "cell_type": "markdown",
   "id": "61d443d5",
   "metadata": {},
   "source": [
    "**Task 4.** Вывести образовательные программы, для которых минимальный балл ЗНО по каждому предмету больше или равен 40 баллам. Программы вывести в отсортированном по алфавиту виде.\n",
    "\n",
    "**SELECT name_program<br>\n",
    "FROM<br>\n",
    "&emsp;&emsp;&emsp;program<br>\n",
    "&emsp;&emsp;&emsp;INNER JOIN program_subject ON program.program_id = program_subject.program_id<br>\n",
    "GROUP BY name_program<br>\n",
    "HAVING MIN(min_result) >= 40<br>\n",
    "ORDER BY name_program;**"
   ]
  },
  {
   "cell_type": "markdown",
   "id": "de96edec",
   "metadata": {},
   "source": [
    "**Task 5.** Вывести образовательные программы, которые имеют самый большой план набора,  вместе с этой величиной.\n",
    "\n",
    "**SELECT name_program, plan<br>\n",
    "FROM program<br>\n",
    "WHERE plan = (SELECT MAX(plan)<br>\n",
    "&emsp;&emsp;&emsp;&emsp;&emsp;&emsp;&emsp;&emsp;FROM program);**"
   ]
  },
  {
   "cell_type": "markdown",
   "id": "f0ef336e",
   "metadata": {},
   "source": [
    "**Task 6.** Посчитать, сколько дополнительных баллов получит каждый абитуриент. Столбец с дополнительными баллами назвать Бонус. Информацию вывести в отсортированном по фамилиям виде.\n",
    "\n",
    "**SELECT name_enrollee, IF(SUM(bonus) IS NULL, 0, SUM(bonus)) AS Бонус<br>\n",
    "FROM<br>\n",
    "&emsp;&emsp;&emsp;enrollee<br>\n",
    "&emsp;&emsp;&emsp;LEFT JOIN enrollee_achievement ON enrollee.enrollee_id = enrollee_achievement.enrollee_id<br>\n",
    "&emsp;&emsp;&emsp;LEFT JOIN achievement ON enrollee_achievement.achievement_id = achievement.achievement_id<br>\n",
    "GROUP BY name_enrollee<br>\n",
    "ORDER BY name_enrollee;**"
   ]
  },
  {
   "cell_type": "markdown",
   "id": "0997d390",
   "metadata": {},
   "source": [
    "**Task 7.** Выведите сколько человек подало заявление на каждую образовательную программу и конкурс на нее (число поданных заявлений деленное на количество мест по плану), округленный до 2-х знаков после запятой. В запросе вывести название факультета, к которому относится образовательная программа, название образовательной программы, план набора абитуриентов на образовательную программу (plan), количество поданных заявлений (Количество) и Конкурс. Информацию отсортировать в порядке убывания конкурса.\n",
    "\n",
    "**SELECT name_department, name_program, plan,<br>\n",
    "&emsp;&emsp;&emsp;&emsp;COUNT(program_enrollee.program_id) AS Количество,<br>\n",
    "&emsp;&emsp;&emsp;&emsp;ROUND(COUNT(program_enrollee.program_id) / plan, 2) AS Конкурс<br>\n",
    "FROM<br>\n",
    "&emsp;&emsp;&emsp;department<br>\n",
    "&emsp;&emsp;&emsp;INNER JOIN program ON department.department_id = program.department_id<br>\n",
    "&emsp;&emsp;&emsp;INNER JOIN program_enrollee ON program.program_id = program_enrollee.program_id<br>\n",
    "GROUP BY name_department, name_program, plan<br>\n",
    "ORDER BY Конкурс DESC;**"
   ]
  },
  {
   "cell_type": "markdown",
   "id": "e8e424a6",
   "metadata": {},
   "source": [
    "**Task 8.** Вывести образовательные программы, на которые для поступления необходимы предмет «Информатика» и «Математика» в отсортированном по названию программ виде.\n",
    "\n",
    "**SELECT name_program<br>\n",
    "FROM program<br>\n",
    "&emsp;&emsp;&emsp;INNER JOIN program_subject ON program.program_id = program_subject.program_id<br>\n",
    "&emsp;&emsp;&emsp;INNER JOIN subject ON subject.subject_id = program_subject.subject_id<br>\n",
    "WHERE name_subject IN (\"Информатика\", \"Математика\")<br>\n",
    "GROUP BY name_program<br>\n",
    "HAVING COUNT(name_subject) = 2<br>\n",
    "ORDER BY name_program;**"
   ]
  },
  {
   "cell_type": "markdown",
   "id": "09e45828",
   "metadata": {},
   "source": [
    "**Task 9.** Посчитать количество баллов каждого абитуриента на каждую образовательную программу, на которую он подал заявление, по результатам ЗНО. В результат включить название образовательной программы, фамилию и имя абитуриента, а также столбец с суммой баллов, который назвать itog. Информацию вывести в отсортированном сначала по образовательной программе, а потом по убыванию суммы баллов виде.\n",
    "\n",
    "**SELECT name_program, name_enrollee, SUM(result) AS itog<br>\n",
    "FROM<br>\n",
    "&emsp;&emsp;&emsp;enrollee<br>\n",
    "&emsp;&emsp;&emsp;INNER JOIN program_enrollee USING(enrollee_id)<br>\n",
    "&emsp;&emsp;&emsp;INNER JOIN program USING(program_id)<br>\n",
    "&emsp;&emsp;&emsp;INNER JOIN program_subject USING(program_id)<br>\n",
    "&emsp;&emsp;&emsp;INNER JOIN enrollee_subject USING(subject_id,enrollee_id)<br>\n",
    "GROUP BY name_program, name_enrollee<br>\n",
    "ORDER BY name_program, itog DESC;**"
   ]
  },
  {
   "cell_type": "markdown",
   "id": "904a3c2e",
   "metadata": {},
   "source": [
    "**Task 10.** Вывести название образовательной программы и фамилию тех абитуриентов, которые подавали документы на эту образовательную программу, но не могут быть зачислены на нее. Эти абитуриенты имеют результат по одному или нескольким предметам ЗНО, необходимым для поступления на эту образовательную программу, меньше минимального балла. Информацию вывести в отсортированном сначала по программам, а потом по фамилиям абитуриентов виде.\n",
    "\n",
    "Например, Баранов Павел по «Физике» набрал 41 балл, а  для образовательной программы «Прикладная механика» минимальный балл по этому предмету определен в 45 баллов. Следовательно, абитуриент на данную программу не может поступить.\n",
    "\n",
    "**SELECT name_program, name_enrollee<br>\n",
    "FROM<br>\n",
    "&emsp;&emsp;&emsp;enrollee<br>\n",
    "&emsp;&emsp;&emsp;INNER JOIN program_enrollee USING(enrollee_id)<br>\n",
    "&emsp;&emsp;&emsp;INNER JOIN program USING(program_id)<br>\n",
    "&emsp;&emsp;&emsp;INNER JOIN program_subject USING(program_id)<br>\n",
    "&emsp;&emsp;&emsp;INNER JOIN enrollee_subject USING(subject_id,enrollee_id)<br>\n",
    "WHERE result < min_result<br>\n",
    "GROUP BY name_program, name_enrollee<br>\n",
    "ORDER BY name_program, name_enrollee;**"
   ]
  },
  {
   "cell_type": "markdown",
   "id": "153e5da5",
   "metadata": {},
   "source": [
    "## Section 3.4"
   ]
  },
  {
   "cell_type": "markdown",
   "id": "15d83fbc",
   "metadata": {},
   "source": [
    "**Step 1.** Создать вспомогательную таблицу applicant,  куда включить id образовательной программы, id абитуриента, сумму баллов абитуриентов (столбец itog) в отсортированном сначала по id образовательной программы, а потом по убыванию суммы баллов виде (использовать запрос из предыдущего урока).\n",
    "\n",
    "**CREATE TABLE applicant AS<br>\n",
    "SELECT program_id, enrollee_id, SUM(result) AS itog<br>\n",
    "FROM<br>\n",
    "&emsp;&emsp;&emsp;enrollee<br>\n",
    "&emsp;&emsp;&emsp;INNER JOIN program_enrollee USING(enrollee_id)<br>\n",
    "&emsp;&emsp;&emsp;INNER JOIN program USING(program_id)<br>\n",
    "&emsp;&emsp;&emsp;INNER JOIN program_subject USING(program_id)<br>\n",
    "&emsp;&emsp;&emsp;INNER JOIN enrollee_subject USING(subject_id,enrollee_id)<br>\n",
    "GROUP BY program_id, enrollee_id<br>\n",
    "ORDER BY program_id, itog DESC;**"
   ]
  },
  {
   "cell_type": "markdown",
   "id": "58dadffb",
   "metadata": {},
   "source": [
    "**Step 2.** Из таблицы applicant, созданной на предыдущем шаге, удалить записи, если абитуриент на выбранную образовательную программу не набрал минимального балла хотя бы по одному предмету (использовать запрос из предыдущего урока).\n",
    "\n",
    "**DELETE FROM applicant<br>\n",
    "WHERE (program_id, enrollee_id) IN (SELECT program_id, enrollee_id<br>\n",
    "&emsp;&emsp;&emsp;&emsp;&emsp;&emsp;&emsp;&emsp;FROM<br>\n",
    "&emsp;&emsp;&emsp;&emsp;&emsp;&emsp;&emsp;&emsp;&emsp;&emsp;enrollee<br>\n",
    "&emsp;&emsp;&emsp;&emsp;&emsp;&emsp;&emsp;&emsp;&emsp;&emsp;INNER JOIN program_enrollee USING(enrollee_id)<br>\n",
    "&emsp;&emsp;&emsp;&emsp;&emsp;&emsp;&emsp;&emsp;&emsp;&emsp;INNER JOIN program USING(program_id)<br>\n",
    "&emsp;&emsp;&emsp;&emsp;&emsp;&emsp;&emsp;&emsp;&emsp;&emsp;INNER JOIN program_subject USING(program_id)<br>\n",
    "&emsp;&emsp;&emsp;&emsp;&emsp;&emsp;&emsp;&emsp;&emsp;&emsp;INNER JOIN enrollee_subject USING(subject_id,enrollee_id)<br>\n",
    "&emsp;&emsp;&emsp;&emsp;&emsp;&emsp;&emsp;&emsp;WHERE result < min_result<br>\n",
    "&emsp;&emsp;&emsp;&emsp;&emsp;&emsp;&emsp;&emsp;GROUP BY program_id, enrollee_id<br>\n",
    "&emsp;&emsp;&emsp;&emsp;&emsp;&emsp;&emsp;&emsp;ORDER BY program_id, enrollee_id);**"
   ]
  },
  {
   "cell_type": "markdown",
   "id": "351e6b44",
   "metadata": {},
   "source": [
    "**Step 3.** Повысить итоговые баллы абитуриентов в таблице applicant на значения дополнительных баллов (использовать запрос из предыдущего урока).\n",
    "\n",
    "**UPDATE applicant<br>\n",
    "&emsp;&emsp;&emsp;&emsp;INNER JOIN (SELECT enrollee.enrollee_id, IF(SUM(bonus) IS NULL, 0, SUM(bonus)) AS points<br>\n",
    "&emsp;&emsp;&emsp;&emsp;&emsp;&emsp;FROM<br>\n",
    "&emsp;&emsp;&emsp;&emsp;&emsp;&emsp;&emsp;&emsp;enrollee<br>\n",
    "&emsp;&emsp;&emsp;&emsp;&emsp;&emsp;&emsp;&emsp;LEFT JOIN enrollee_achievement ON enrollee.enrollee_id =<br> enrollee_achievement.enrollee_id<br>\n",
    "&emsp;&emsp;&emsp;&emsp;&emsp;&emsp;&emsp;&emsp;LEFT JOIN achievement ON enrollee_achievement.achievement_id =<br> achievement.achievement_id<br>\n",
    "&emsp;&emsp;&emsp;&emsp;&emsp;&emsp;GROUP BY enrollee.enrollee_id) AS extra USING(enrollee_id)<br>\n",
    "SET itog = itog + points;**<br>\n",
    "\n",
    "**SELECT * FROM applicant;**"
   ]
  },
  {
   "cell_type": "markdown",
   "id": "ca8f9629",
   "metadata": {},
   "source": [
    "**Step 4.** Поскольку при добавлении дополнительных баллов, абитуриенты по каждой образовательной программе могут следовать не в порядке убывания суммарных баллов, необходимо создать новую таблицу applicant_order на основе таблицы applicant. При создании таблицы данные нужно отсортировать сначала по id образовательной программы, потом по убыванию итогового балла. А таблицу applicant, которая была создана как вспомогательная, необходимо удалить.\n",
    "\n",
    "**CREATE TABLE applicant_order AS<br>\n",
    "SELECT \\*<br>\n",
    "FROM applicant<br>\n",
    "ORDER BY program_id, itog DESC;**<br>\n",
    "\n",
    "**DROP TABLE applicant;**"
   ]
  },
  {
   "cell_type": "markdown",
   "id": "49153931",
   "metadata": {},
   "source": [
    "**Step 5.** Включить в таблицу applicant_order новый столбец str_id целого типа , расположить его перед первым.\n",
    "\n",
    "**ALTER TABLE applicant_order ADD str_id INT FIRST;**"
   ]
  },
  {
   "cell_type": "markdown",
   "id": "c9d75bfa",
   "metadata": {},
   "source": [
    "**Step 6.** Занести в столбец str_id таблицы applicant_order нумерацию абитуриентов, которая начинается с 1 для каждой образовательной программы.\n",
    "\n",
    "**SET @num_pr := 0;<br>\n",
    "SET @row_num := 1;**<br>\n",
    "\n",
    "**UPDATE applicant_order<br>\n",
    "SET str_id = IF(program_id = @num_pr, @row_num := @row_num + 1,<br>\n",
    "&emsp;&emsp;&emsp;&emsp;&emsp;&emsp;&emsp;@row_num := 1 AND @num_pr := @num_pr + 1);**<br>\n",
    "\n",
    "**SELECT *<br>\n",
    "FROM applicant_order;**"
   ]
  },
  {
   "cell_type": "markdown",
   "id": "65e3959c",
   "metadata": {},
   "source": [
    "**Step 7.** Создать таблицу student,  в которую включить абитуриентов, которые могут быть рекомендованы к зачислению  в соответствии с планом набора. Информацию отсортировать сначала в алфавитном порядке по названию программ, а потом по убыванию итогового балла.\n",
    "\n",
    "**CREATE TABLE student AS<br>\n",
    "SELECT name_program, name_enrollee, itog<br>\n",
    "FROM enrollee<br>\n",
    "&emsp;&emsp;&emsp;INNER JOIN applicant_order ON enrollee.enrollee_id = applicant_order.enrollee_id<br>\n",
    "&emsp;&emsp;&emsp;INNER JOIN program ON applicant_order.program_id = program.program_id<br>\n",
    "WHERE str_id <= plan<br>\n",
    "GROUP BY name_program, name_enrollee, itog<br>\n",
    "ORDER BY name_program, itog DESC;**<br>\n",
    "\n",
    "**SELECT * FROM student;**"
   ]
  },
  {
   "cell_type": "code",
   "execution_count": null,
   "id": "5ae88400",
   "metadata": {},
   "outputs": [],
   "source": []
  }
 ],
 "metadata": {
  "kernelspec": {
   "display_name": "Python 3 (ipykernel)",
   "language": "python",
   "name": "python3"
  },
  "language_info": {
   "codemirror_mode": {
    "name": "ipython",
    "version": 3
   },
   "file_extension": ".py",
   "mimetype": "text/x-python",
   "name": "python",
   "nbconvert_exporter": "python",
   "pygments_lexer": "ipython3",
   "version": "3.9.7"
  }
 },
 "nbformat": 4,
 "nbformat_minor": 5
}
